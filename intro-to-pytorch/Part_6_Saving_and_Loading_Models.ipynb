{
  "nbformat": 4,
  "nbformat_minor": 0,
  "metadata": {
    "colab": {
      "name": "Part 6 - Saving and Loading Models.ipynb",
      "version": "0.3.2",
      "provenance": [],
      "collapsed_sections": [],
      "toc_visible": true
    },
    "language_info": {
      "codemirror_mode": {
        "name": "ipython",
        "version": 3
      },
      "file_extension": ".py",
      "mimetype": "text/x-python",
      "name": "python",
      "nbconvert_exporter": "python",
      "pygments_lexer": "ipython3",
      "version": "3.6.6"
    },
    "kernelspec": {
      "name": "python3",
      "display_name": "Python 3"
    },
    "accelerator": "GPU"
  },
  "cells": [
    {
      "cell_type": "markdown",
      "metadata": {
        "id": "gCX4_98JPXd4",
        "colab_type": "text"
      },
      "source": [
        "# Saving and Loading Models\n",
        "\n",
        "In this notebook, I'll show you how to save and load models with PyTorch. This is important because you'll often want to load previously trained models to use in making predictions or to continue training on new data."
      ]
    },
    {
      "cell_type": "code",
      "metadata": {
        "id": "w5k1cF6wPXd5",
        "colab_type": "code",
        "colab": {}
      },
      "source": [
        "%matplotlib inline\n",
        "%config InlineBackend.figure_format = 'retina'\n",
        "\n",
        "import matplotlib.pyplot as plt\n",
        "\n",
        "import torch\n",
        "from torch import nn\n",
        "from torch import optim\n",
        "import torch.nn.functional as F\n",
        "from torchvision import datasets, transforms\n",
        "\n",
        "import helper\n",
        "import fc_model"
      ],
      "execution_count": 0,
      "outputs": []
    },
    {
      "cell_type": "code",
      "metadata": {
        "id": "7224dyEnPXd8",
        "colab_type": "code",
        "colab": {
          "base_uri": "https://localhost:8080/",
          "height": 280
        },
        "outputId": "db968632-2ca2-461a-d80c-ca023e46c435"
      },
      "source": [
        "# Define a transform to normalize the data\n",
        "transform = transforms.Compose([transforms.ToTensor(),\n",
        "                                transforms.Normalize((0.5,), (0.5,))])\n",
        "# Download and load the training data\n",
        "trainset = datasets.FashionMNIST('~/.pytorch/F_MNIST_data/', download=True, train=True, transform=transform)\n",
        "trainloader = torch.utils.data.DataLoader(trainset, batch_size=64, shuffle=True)\n",
        "\n",
        "# Download and load the test data\n",
        "testset = datasets.FashionMNIST('~/.pytorch/F_MNIST_data/', download=True, train=False, transform=transform)\n",
        "testloader = torch.utils.data.DataLoader(testset, batch_size=64, shuffle=True)"
      ],
      "execution_count": 2,
      "outputs": [
        {
          "output_type": "stream",
          "text": [
            "\r0it [00:00, ?it/s]"
          ],
          "name": "stderr"
        },
        {
          "output_type": "stream",
          "text": [
            "Downloading http://fashion-mnist.s3-website.eu-central-1.amazonaws.com/train-images-idx3-ubyte.gz to /root/.pytorch/F_MNIST_data/FashionMNIST/raw/train-images-idx3-ubyte.gz\n"
          ],
          "name": "stdout"
        },
        {
          "output_type": "stream",
          "text": [
            "26427392it [00:01, 13512098.77it/s]                             \n"
          ],
          "name": "stderr"
        },
        {
          "output_type": "stream",
          "text": [
            "Extracting /root/.pytorch/F_MNIST_data/FashionMNIST/raw/train-images-idx3-ubyte.gz\n"
          ],
          "name": "stdout"
        },
        {
          "output_type": "stream",
          "text": [
            "\r0it [00:00, ?it/s]"
          ],
          "name": "stderr"
        },
        {
          "output_type": "stream",
          "text": [
            "Downloading http://fashion-mnist.s3-website.eu-central-1.amazonaws.com/train-labels-idx1-ubyte.gz to /root/.pytorch/F_MNIST_data/FashionMNIST/raw/train-labels-idx1-ubyte.gz\n"
          ],
          "name": "stdout"
        },
        {
          "output_type": "stream",
          "text": [
            "32768it [00:00, 95775.54it/s]                            \n",
            "0it [00:00, ?it/s]"
          ],
          "name": "stderr"
        },
        {
          "output_type": "stream",
          "text": [
            "Extracting /root/.pytorch/F_MNIST_data/FashionMNIST/raw/train-labels-idx1-ubyte.gz\n",
            "Downloading http://fashion-mnist.s3-website.eu-central-1.amazonaws.com/t10k-images-idx3-ubyte.gz to /root/.pytorch/F_MNIST_data/FashionMNIST/raw/t10k-images-idx3-ubyte.gz\n"
          ],
          "name": "stdout"
        },
        {
          "output_type": "stream",
          "text": [
            "4423680it [00:01, 3944509.50it/s]                             \n",
            "0it [00:00, ?it/s]"
          ],
          "name": "stderr"
        },
        {
          "output_type": "stream",
          "text": [
            "Extracting /root/.pytorch/F_MNIST_data/FashionMNIST/raw/t10k-images-idx3-ubyte.gz\n",
            "Downloading http://fashion-mnist.s3-website.eu-central-1.amazonaws.com/t10k-labels-idx1-ubyte.gz to /root/.pytorch/F_MNIST_data/FashionMNIST/raw/t10k-labels-idx1-ubyte.gz\n"
          ],
          "name": "stdout"
        },
        {
          "output_type": "stream",
          "text": [
            "8192it [00:00, 27942.90it/s]            "
          ],
          "name": "stderr"
        },
        {
          "output_type": "stream",
          "text": [
            "Extracting /root/.pytorch/F_MNIST_data/FashionMNIST/raw/t10k-labels-idx1-ubyte.gz\n",
            "Processing...\n",
            "Done!\n"
          ],
          "name": "stdout"
        },
        {
          "output_type": "stream",
          "text": [
            "\n"
          ],
          "name": "stderr"
        }
      ]
    },
    {
      "cell_type": "markdown",
      "metadata": {
        "id": "ZjXJYPoYPXd-",
        "colab_type": "text"
      },
      "source": [
        "Here we can see one of the images."
      ]
    },
    {
      "cell_type": "code",
      "metadata": {
        "id": "IAoY_RwmPXd_",
        "colab_type": "code",
        "colab": {
          "base_uri": "https://localhost:8080/",
          "height": 251
        },
        "outputId": "d8796ad8-7578-4480-a28d-90f4e56e0d49"
      },
      "source": [
        "image, label = next(iter(trainloader))\n",
        "helper.imshow(image[0,:]);"
      ],
      "execution_count": 3,
      "outputs": [
        {
          "output_type": "display_data",
          "data": {
            "image/png": "[encoded data removed]",
            "text/plain": [
              "<Figure size 432x288 with 1 Axes>"
            ]
          },
          "metadata": {
            "tags": [],
            "image/png": {
              "width": 233,
              "height": 233
            }
          }
        }
      ]
    },
    {
      "cell_type": "markdown",
      "metadata": {
        "id": "ENQJKpqEPXeE",
        "colab_type": "text"
      },
      "source": [
        "# Train a network\n",
        "\n",
        "To make things more concise here, I moved the model architecture and training code from the last part to a file called `fc_model`. Importing this, we can easily create a fully-connected network with `fc_model.Network`, and train the network using `fc_model.train`. I'll use this model (once it's trained) to demonstrate how we can save and load models."
      ]
    },
    {
      "cell_type": "code",
      "metadata": {
        "id": "vhp444V3PXeE",
        "colab_type": "code",
        "colab": {}
      },
      "source": [
        "# Create the network, define the criterion and optimizer\n",
        "\n",
        "model = fc_model.Network(784, 10, [512, 256, 128])\n",
        "criterion = nn.NLLLoss()\n",
        "optimizer = optim.Adam(model.parameters(), lr=0.001)"
      ],
      "execution_count": 0,
      "outputs": []
    },
    {
      "cell_type": "code",
      "metadata": {
        "id": "wsJ8z5T3PXeH",
        "colab_type": "code",
        "colab": {
          "base_uri": "https://localhost:8080/",
          "height": 815
        },
        "outputId": "431ef3c2-974d-4864-bb5a-81e6d14b06c9"
      },
      "source": [
        "fc_model.train(model, trainloader, testloader, criterion, optimizer, epochs=2)"
      ],
      "execution_count": 5,
      "outputs": [
        {
          "output_type": "stream",
          "text": [
            "Epoch: 1/2..  Training Loss: 1.728..  Test Loss: 1.032..  Test Accuracy: 0.620\n",
            "Epoch: 1/2..  Training Loss: 1.045..  Test Loss: 0.752..  Test Accuracy: 0.730\n",
            "Epoch: 1/2..  Training Loss: 0.867..  Test Loss: 0.668..  Test Accuracy: 0.749\n",
            "Epoch: 1/2..  Training Loss: 0.791..  Test Loss: 0.643..  Test Accuracy: 0.756\n",
            "Epoch: 1/2..  Training Loss: 0.753..  Test Loss: 0.634..  Test Accuracy: 0.758\n",
            "Epoch: 1/2..  Training Loss: 0.676..  Test Loss: 0.586..  Test Accuracy: 0.769\n",
            "Epoch: 1/2..  Training Loss: 0.692..  Test Loss: 0.582..  Test Accuracy: 0.790\n",
            "Epoch: 1/2..  Training Loss: 0.683..  Test Loss: 0.578..  Test Accuracy: 0.787\n",
            "Epoch: 1/2..  Training Loss: 0.662..  Test Loss: 0.554..  Test Accuracy: 0.795\n",
            "Epoch: 1/2..  Training Loss: 0.635..  Test Loss: 0.553..  Test Accuracy: 0.795\n",
            "Epoch: 1/2..  Training Loss: 0.625..  Test Loss: 0.535..  Test Accuracy: 0.793\n",
            "Epoch: 1/2..  Training Loss: 0.596..  Test Loss: 0.576..  Test Accuracy: 0.789\n",
            "Epoch: 1/2..  Training Loss: 0.641..  Test Loss: 0.527..  Test Accuracy: 0.811\n",
            "Epoch: 1/2..  Training Loss: 0.577..  Test Loss: 0.494..  Test Accuracy: 0.815\n",
            "Epoch: 1/2..  Training Loss: 0.608..  Test Loss: 0.514..  Test Accuracy: 0.806\n",
            "Epoch: 1/2..  Training Loss: 0.584..  Test Loss: 0.491..  Test Accuracy: 0.816\n",
            "Epoch: 1/2..  Training Loss: 0.597..  Test Loss: 0.520..  Test Accuracy: 0.808\n",
            "Epoch: 1/2..  Training Loss: 0.587..  Test Loss: 0.489..  Test Accuracy: 0.819\n",
            "Epoch: 1/2..  Training Loss: 0.560..  Test Loss: 0.500..  Test Accuracy: 0.818\n",
            "Epoch: 1/2..  Training Loss: 0.616..  Test Loss: 0.485..  Test Accuracy: 0.825\n",
            "Epoch: 1/2..  Training Loss: 0.566..  Test Loss: 0.487..  Test Accuracy: 0.821\n",
            "Epoch: 1/2..  Training Loss: 0.573..  Test Loss: 0.479..  Test Accuracy: 0.825\n",
            "Epoch: 1/2..  Training Loss: 0.593..  Test Loss: 0.485..  Test Accuracy: 0.824\n",
            "Epoch: 2/2..  Training Loss: 0.585..  Test Loss: 0.481..  Test Accuracy: 0.821\n",
            "Epoch: 2/2..  Training Loss: 0.542..  Test Loss: 0.472..  Test Accuracy: 0.827\n",
            "Epoch: 2/2..  Training Loss: 0.535..  Test Loss: 0.464..  Test Accuracy: 0.831\n",
            "Epoch: 2/2..  Training Loss: 0.542..  Test Loss: 0.472..  Test Accuracy: 0.821\n",
            "Epoch: 2/2..  Training Loss: 0.552..  Test Loss: 0.463..  Test Accuracy: 0.831\n",
            "Epoch: 2/2..  Training Loss: 0.515..  Test Loss: 0.472..  Test Accuracy: 0.831\n",
            "Epoch: 2/2..  Training Loss: 0.534..  Test Loss: 0.460..  Test Accuracy: 0.836\n",
            "Epoch: 2/2..  Training Loss: 0.534..  Test Loss: 0.461..  Test Accuracy: 0.831\n",
            "Epoch: 2/2..  Training Loss: 0.499..  Test Loss: 0.453..  Test Accuracy: 0.832\n",
            "Epoch: 2/2..  Training Loss: 0.514..  Test Loss: 0.474..  Test Accuracy: 0.824\n",
            "Epoch: 2/2..  Training Loss: 0.511..  Test Loss: 0.448..  Test Accuracy: 0.833\n",
            "Epoch: 2/2..  Training Loss: 0.509..  Test Loss: 0.451..  Test Accuracy: 0.833\n",
            "Epoch: 2/2..  Training Loss: 0.540..  Test Loss: 0.471..  Test Accuracy: 0.828\n",
            "Epoch: 2/2..  Training Loss: 0.571..  Test Loss: 0.454..  Test Accuracy: 0.830\n",
            "Epoch: 2/2..  Training Loss: 0.488..  Test Loss: 0.455..  Test Accuracy: 0.831\n",
            "Epoch: 2/2..  Training Loss: 0.513..  Test Loss: 0.445..  Test Accuracy: 0.840\n",
            "Epoch: 2/2..  Training Loss: 0.528..  Test Loss: 0.461..  Test Accuracy: 0.828\n",
            "Epoch: 2/2..  Training Loss: 0.508..  Test Loss: 0.447..  Test Accuracy: 0.838\n",
            "Epoch: 2/2..  Training Loss: 0.518..  Test Loss: 0.469..  Test Accuracy: 0.836\n",
            "Epoch: 2/2..  Training Loss: 0.580..  Test Loss: 0.463..  Test Accuracy: 0.833\n",
            "Epoch: 2/2..  Training Loss: 0.519..  Test Loss: 0.443..  Test Accuracy: 0.839\n",
            "Epoch: 2/2..  Training Loss: 0.510..  Test Loss: 0.456..  Test Accuracy: 0.836\n",
            "Epoch: 2/2..  Training Loss: 0.501..  Test Loss: 0.437..  Test Accuracy: 0.842\n"
          ],
          "name": "stdout"
        }
      ]
    },
    {
      "cell_type": "markdown",
      "metadata": {
        "id": "pk3Qn6ZpPXeJ",
        "colab_type": "text"
      },
      "source": [
        "## Saving and loading networks\n",
        "\n",
        "As you can imagine, it's impractical to train a network every time you need to use it. Instead, we can save trained networks then load them later to train more or use them for predictions.\n",
        "\n",
        "The parameters for PyTorch networks are stored in a model's `state_dict`. We can see the state dict contains the weight and bias matrices for each of our layers."
      ]
    },
    {
      "cell_type": "code",
      "metadata": {
        "id": "mD-5XYdpPXeK",
        "colab_type": "code",
        "colab": {
          "base_uri": "https://localhost:8080/",
          "height": 297
        },
        "outputId": "a6266e87-0c0e-47c6-c938-78850aeb51d5"
      },
      "source": [
        "print(\"Our model: \\n\\n\", model, '\\n')\n",
        "print(\"The state dict keys: \\n\\n\", model.state_dict().keys())"
      ],
      "execution_count": 6,
      "outputs": [
        {
          "output_type": "stream",
          "text": [
            "Our model: \n",
            "\n",
            " Network(\n",
            "  (hidden_layers): ModuleList(\n",
            "    (0): Linear(in_features=784, out_features=512, bias=True)\n",
            "    (1): Linear(in_features=512, out_features=256, bias=True)\n",
            "    (2): Linear(in_features=256, out_features=128, bias=True)\n",
            "  )\n",
            "  (output): Linear(in_features=128, out_features=10, bias=True)\n",
            "  (dropout): Dropout(p=0.5)\n",
            ") \n",
            "\n",
            "The state dict keys: \n",
            "\n",
            " odict_keys(['hidden_layers.0.weight', 'hidden_layers.0.bias', 'hidden_layers.1.weight', 'hidden_layers.1.bias', 'hidden_layers.2.weight', 'hidden_layers.2.bias', 'output.weight', 'output.bias'])\n"
          ],
          "name": "stdout"
        }
      ]
    },
    {
      "cell_type": "markdown",
      "metadata": {
        "id": "0WW5o6giPXeN",
        "colab_type": "text"
      },
      "source": [
        "The simplest thing to do is simply save the state dict with `torch.save`. For example, we can save it to a file `'checkpoint.pth'`."
      ]
    },
    {
      "cell_type": "code",
      "metadata": {
        "id": "gxZkPpKAPXeN",
        "colab_type": "code",
        "colab": {}
      },
      "source": [
        "torch.save(model.state_dict(), 'checkpoint.pth')"
      ],
      "execution_count": 0,
      "outputs": []
    },
    {
      "cell_type": "markdown",
      "metadata": {
        "id": "_I48CcKUPXeQ",
        "colab_type": "text"
      },
      "source": [
        "Then we can load the state dict with `torch.load`."
      ]
    },
    {
      "cell_type": "code",
      "metadata": {
        "id": "YY-lEp3sPXeR",
        "colab_type": "code",
        "colab": {
          "base_uri": "https://localhost:8080/",
          "height": 55
        },
        "outputId": "d936d53d-1804-4898-9d57-4eba87490125"
      },
      "source": [
        "state_dict = torch.load('checkpoint.pth')\n",
        "print(state_dict.keys())"
      ],
      "execution_count": 9,
      "outputs": [
        {
          "output_type": "stream",
          "text": [
            "odict_keys(['hidden_layers.0.weight', 'hidden_layers.0.bias', 'hidden_layers.1.weight', 'hidden_layers.1.bias', 'hidden_layers.2.weight', 'hidden_layers.2.bias', 'output.weight', 'output.bias'])\n"
          ],
          "name": "stdout"
        }
      ]
    },
    {
      "cell_type": "markdown",
      "metadata": {
        "id": "r1cqEVpMPXeT",
        "colab_type": "text"
      },
      "source": [
        "And to load the state dict in to the network, you do `model.load_state_dict(state_dict)`."
      ]
    },
    {
      "cell_type": "code",
      "metadata": {
        "id": "luvkzTCxPXeU",
        "colab_type": "code",
        "colab": {
          "base_uri": "https://localhost:8080/",
          "height": 35
        },
        "outputId": "c909e79a-bec4-4e5b-c241-80bb98c608bb"
      },
      "source": [
        "model.load_state_dict(state_dict)"
      ],
      "execution_count": 10,
      "outputs": [
        {
          "output_type": "execute_result",
          "data": {
            "text/plain": [
              "IncompatibleKeys(missing_keys=[], unexpected_keys=[])"
            ]
          },
          "metadata": {
            "tags": []
          },
          "execution_count": 10
        }
      ]
    },
    {
      "cell_type": "markdown",
      "metadata": {
        "id": "obKgJc3DPXeW",
        "colab_type": "text"
      },
      "source": [
        "Seems pretty straightforward, but as usual it's a bit more complicated. Loading the state dict works only if the model architecture is exactly the same as the checkpoint architecture. If I create a model with a different architecture, this fails."
      ]
    },
    {
      "cell_type": "code",
      "metadata": {
        "id": "tfhjaFgZPXeW",
        "colab_type": "code",
        "colab": {
          "base_uri": "https://localhost:8080/",
          "height": 464
        },
        "outputId": "871c7098-8040-4b0c-ac23-030794560153"
      },
      "source": [
        "# Try this\n",
        "model = fc_model.Network(784, 10, [400, 200, 100])\n",
        "# This will throw an error because the tensor sizes are wrong!\n",
        "model.load_state_dict(state_dict)"
      ],
      "execution_count": 11,
      "outputs": [
        {
          "output_type": "error",
          "ename": "RuntimeError",
          "evalue": "ignored",
          "traceback": [
            "\u001b[0;31m---------------------------------------------------------------------------\u001b[0m",
            "\u001b[0;31mRuntimeError\u001b[0m                              Traceback (most recent call last)",
            "\u001b[0;32m<ipython-input-11-cc11e1013989>\u001b[0m in \u001b[0;36m<module>\u001b[0;34m()\u001b[0m\n\u001b[1;32m      1\u001b[0m \u001b[0mmodel\u001b[0m \u001b[0;34m=\u001b[0m \u001b[0mfc_model\u001b[0m\u001b[0;34m.\u001b[0m\u001b[0mNetwork\u001b[0m\u001b[0;34m(\u001b[0m\u001b[0;36m784\u001b[0m\u001b[0;34m,\u001b[0m \u001b[0;36m10\u001b[0m\u001b[0;34m,\u001b[0m \u001b[0;34m[\u001b[0m\u001b[0;36m400\u001b[0m\u001b[0;34m,\u001b[0m \u001b[0;36m200\u001b[0m\u001b[0;34m,\u001b[0m \u001b[0;36m100\u001b[0m\u001b[0;34m]\u001b[0m\u001b[0;34m)\u001b[0m\u001b[0;34m\u001b[0m\u001b[0;34m\u001b[0m\u001b[0m\n\u001b[1;32m      2\u001b[0m \u001b[0;31m# This will throw an error because the tensor sizes are wrong!\u001b[0m\u001b[0;34m\u001b[0m\u001b[0;34m\u001b[0m\u001b[0;34m\u001b[0m\u001b[0m\n\u001b[0;32m----> 3\u001b[0;31m \u001b[0mmodel\u001b[0m\u001b[0;34m.\u001b[0m\u001b[0mload_state_dict\u001b[0m\u001b[0;34m(\u001b[0m\u001b[0mstate_dict\u001b[0m\u001b[0;34m)\u001b[0m\u001b[0;34m\u001b[0m\u001b[0;34m\u001b[0m\u001b[0m\n\u001b[0m",
            "\u001b[0;32m/usr/local/lib/python3.6/dist-packages/torch/nn/modules/module.py\u001b[0m in \u001b[0;36mload_state_dict\u001b[0;34m(self, state_dict, strict)\u001b[0m\n\u001b[1;32m    775\u001b[0m         \u001b[0;32mif\u001b[0m \u001b[0mlen\u001b[0m\u001b[0;34m(\u001b[0m\u001b[0merror_msgs\u001b[0m\u001b[0;34m)\u001b[0m \u001b[0;34m>\u001b[0m \u001b[0;36m0\u001b[0m\u001b[0;34m:\u001b[0m\u001b[0;34m\u001b[0m\u001b[0;34m\u001b[0m\u001b[0m\n\u001b[1;32m    776\u001b[0m             raise RuntimeError('Error(s) in loading state_dict for {}:\\n\\t{}'.format(\n\u001b[0;32m--> 777\u001b[0;31m                                self.__class__.__name__, \"\\n\\t\".join(error_msgs)))\n\u001b[0m\u001b[1;32m    778\u001b[0m         \u001b[0;32mreturn\u001b[0m \u001b[0m_IncompatibleKeys\u001b[0m\u001b[0;34m(\u001b[0m\u001b[0mmissing_keys\u001b[0m\u001b[0;34m,\u001b[0m \u001b[0munexpected_keys\u001b[0m\u001b[0;34m)\u001b[0m\u001b[0;34m\u001b[0m\u001b[0;34m\u001b[0m\u001b[0m\n\u001b[1;32m    779\u001b[0m \u001b[0;34m\u001b[0m\u001b[0m\n",
            "\u001b[0;31mRuntimeError\u001b[0m: Error(s) in loading state_dict for Network:\n\tsize mismatch for hidden_layers.0.weight: copying a param with shape torch.Size([512, 784]) from checkpoint, the shape in current model is torch.Size([400, 784]).\n\tsize mismatch for hidden_layers.0.bias: copying a param with shape torch.Size([512]) from checkpoint, the shape in current model is torch.Size([400]).\n\tsize mismatch for hidden_layers.1.weight: copying a param with shape torch.Size([256, 512]) from checkpoint, the shape in current model is torch.Size([200, 400]).\n\tsize mismatch for hidden_layers.1.bias: copying a param with shape torch.Size([256]) from checkpoint, the shape in current model is torch.Size([200]).\n\tsize mismatch for hidden_layers.2.weight: copying a param with shape torch.Size([128, 256]) from checkpoint, the shape in current model is torch.Size([100, 200]).\n\tsize mismatch for hidden_layers.2.bias: copying a param with shape torch.Size([128]) from checkpoint, the shape in current model is torch.Size([100]).\n\tsize mismatch for output.weight: copying a param with shape torch.Size([10, 128]) from checkpoint, the shape in current model is torch.Size([10, 100])."
          ]
        }
      ]
    },
    {
      "cell_type": "markdown",
      "metadata": {
        "id": "pRNNwtjTPXeY",
        "colab_type": "text"
      },
      "source": [
        "This means we need to rebuild the model exactly as it was when trained. Information about the model architecture needs to be saved in the checkpoint, along with the state dict. To do this, you build a dictionary with all the information you need to compeletely rebuild the model."
      ]
    },
    {
      "cell_type": "code",
      "metadata": {
        "id": "tFzxMJM_PXeZ",
        "colab_type": "code",
        "colab": {}
      },
      "source": [
        "checkpoint = {'input_size': 784,\n",
        "              'output_size': 10,\n",
        "              'hidden_layers': [each.out_features for each in model.hidden_layers],\n",
        "              'state_dict': model.state_dict()}\n",
        "\n",
        "torch.save(checkpoint, 'checkpoint.pth')"
      ],
      "execution_count": 0,
      "outputs": []
    },
    {
      "cell_type": "markdown",
      "metadata": {
        "id": "T6Uxwl6bPXea",
        "colab_type": "text"
      },
      "source": [
        "Now the checkpoint has all the necessary information to rebuild the trained model. You can easily make that a function if you want. Similarly, we can write a function to load checkpoints. "
      ]
    },
    {
      "cell_type": "code",
      "metadata": {
        "id": "pSKc79uXPXeb",
        "colab_type": "code",
        "colab": {}
      },
      "source": [
        "def load_checkpoint(filepath):\n",
        "    checkpoint = torch.load(filepath)\n",
        "    model = fc_model.Network(checkpoint['input_size'],\n",
        "                             checkpoint['output_size'],\n",
        "                             checkpoint['hidden_layers'])\n",
        "    model.load_state_dict(checkpoint['state_dict'])\n",
        "    \n",
        "    return model"
      ],
      "execution_count": 0,
      "outputs": []
    },
    {
      "cell_type": "code",
      "metadata": {
        "id": "wu6hwSo6PXed",
        "colab_type": "code",
        "colab": {
          "base_uri": "https://localhost:8080/",
          "height": 173
        },
        "outputId": "d3e47a83-b094-4f2e-d8dc-74c22723bbd9"
      },
      "source": [
        "model = load_checkpoint('checkpoint.pth')\n",
        "print(model)"
      ],
      "execution_count": 14,
      "outputs": [
        {
          "output_type": "stream",
          "text": [
            "Network(\n",
            "  (hidden_layers): ModuleList(\n",
            "    (0): Linear(in_features=784, out_features=400, bias=True)\n",
            "    (1): Linear(in_features=400, out_features=200, bias=True)\n",
            "    (2): Linear(in_features=200, out_features=100, bias=True)\n",
            "  )\n",
            "  (output): Linear(in_features=100, out_features=10, bias=True)\n",
            "  (dropout): Dropout(p=0.5)\n",
            ")\n"
          ],
          "name": "stdout"
        }
      ]
    }
  ]
}