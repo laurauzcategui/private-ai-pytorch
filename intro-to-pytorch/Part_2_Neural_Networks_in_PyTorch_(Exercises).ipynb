{
  "nbformat": 4,
  "nbformat_minor": 0,
  "metadata": {
    "colab": {
      "name": "Part 2 - Neural Networks in PyTorch (Exercises).ipynb",
      "version": "0.3.2",
      "provenance": [],
      "collapsed_sections": [],
      "toc_visible": true
    },
    "language_info": {
      "codemirror_mode": {
        "name": "ipython",
        "version": 3
      },
      "file_extension": ".py",
      "mimetype": "text/x-python",
      "name": "python",
      "nbconvert_exporter": "python",
      "pygments_lexer": "ipython3",
      "version": "3.6.4"
    },
    "kernelspec": {
      "name": "python3",
      "display_name": "Python 3"
    },
    "accelerator": "GPU"
  },
  "cells": [
    {
      "cell_type": "markdown",
      "metadata": {
        "id": "dfx5eIQsAWdN",
        "colab_type": "text"
      },
      "source": [
        "# Neural networks with PyTorch\n",
        "\n",
        "Deep learning networks tend to be massive with dozens or hundreds of layers, that's where the term \"deep\" comes from. You can build one of these deep networks using only weight matrices as we did in the previous notebook, but in general it's very cumbersome and difficult to implement. PyTorch has a nice module `nn` that provides a nice way to efficiently build large neural networks."
      ]
    },
    {
      "cell_type": "code",
      "metadata": {
        "id": "NSW7-5frAWdO",
        "colab_type": "code",
        "colab": {}
      },
      "source": [
        "# Import necessary packages\n",
        "\n",
        "%matplotlib inline\n",
        "%config InlineBackend.figure_format = 'retina'\n",
        "\n",
        "import numpy as np\n",
        "import torch\n",
        "\n",
        "import helper as helper\n",
        "\n",
        "import matplotlib.pyplot as plt"
      ],
      "execution_count": 0,
      "outputs": []
    },
    {
      "cell_type": "markdown",
      "metadata": {
        "id": "Vt4oUhU5AWdS",
        "colab_type": "text"
      },
      "source": [
        "\n",
        "Now we're going to build a larger network that can solve a (formerly) difficult problem, identifying text in an image. Here we'll use the MNIST dataset which consists of greyscale handwritten digits. Each image is 28x28 pixels, you can see a sample below\n",
        "\n",
        "<img src='assets/mnist.png'>\n",
        "\n",
        "Our goal is to build a neural network that can take one of these images and predict the digit in the image.\n",
        "\n",
        "First up, we need to get our dataset. This is provided through the `torchvision` package. The code below will download the MNIST dataset, then create training and test datasets for us. Don't worry too much about the details here, you'll learn more about this later."
      ]
    },
    {
      "cell_type": "code",
      "metadata": {
        "id": "ttgrHi7CAWdS",
        "colab_type": "code",
        "colab": {
          "base_uri": "https://localhost:8080/",
          "height": 280
        },
        "outputId": "f7321b4c-4171-4009-df0a-408ce968e789"
      },
      "source": [
        "### Run this cell\n",
        "\n",
        "from torchvision import datasets, transforms\n",
        "\n",
        "# Define a transform to normalize the data\n",
        "transform = transforms.Compose([transforms.ToTensor(),\n",
        "                              transforms.Normalize((0.5,), (0.5,)),\n",
        "                              ])\n",
        "\n",
        "# Download and load the training data\n",
        "trainset = datasets.MNIST('~/.pytorch/MNIST_data/', download=True, train=True, transform=transform)\n",
        "trainloader = torch.utils.data.DataLoader(trainset, batch_size=64, shuffle=True)"
      ],
      "execution_count": 3,
      "outputs": [
        {
          "output_type": "stream",
          "text": [
            "\r0it [00:00, ?it/s]"
          ],
          "name": "stderr"
        },
        {
          "output_type": "stream",
          "text": [
            "Downloading http://yann.lecun.com/exdb/mnist/train-images-idx3-ubyte.gz to /root/.pytorch/MNIST_data/MNIST/raw/train-images-idx3-ubyte.gz\n"
          ],
          "name": "stdout"
        },
        {
          "output_type": "stream",
          "text": [
            "9920512it [00:01, 8722718.35it/s]                            \n"
          ],
          "name": "stderr"
        },
        {
          "output_type": "stream",
          "text": [
            "Extracting /root/.pytorch/MNIST_data/MNIST/raw/train-images-idx3-ubyte.gz\n"
          ],
          "name": "stdout"
        },
        {
          "output_type": "stream",
          "text": [
            "  0%|          | 0/28881 [00:00<?, ?it/s]"
          ],
          "name": "stderr"
        },
        {
          "output_type": "stream",
          "text": [
            "Downloading http://yann.lecun.com/exdb/mnist/train-labels-idx1-ubyte.gz to /root/.pytorch/MNIST_data/MNIST/raw/train-labels-idx1-ubyte.gz\n"
          ],
          "name": "stdout"
        },
        {
          "output_type": "stream",
          "text": [
            "32768it [00:00, 129639.94it/s]           \n",
            "  0%|          | 0/1648877 [00:00<?, ?it/s]"
          ],
          "name": "stderr"
        },
        {
          "output_type": "stream",
          "text": [
            "Extracting /root/.pytorch/MNIST_data/MNIST/raw/train-labels-idx1-ubyte.gz\n",
            "Downloading http://yann.lecun.com/exdb/mnist/t10k-images-idx3-ubyte.gz to /root/.pytorch/MNIST_data/MNIST/raw/t10k-images-idx3-ubyte.gz\n"
          ],
          "name": "stdout"
        },
        {
          "output_type": "stream",
          "text": [
            "1654784it [00:00, 2049287.76it/s]                            \n",
            "0it [00:00, ?it/s]"
          ],
          "name": "stderr"
        },
        {
          "output_type": "stream",
          "text": [
            "Extracting /root/.pytorch/MNIST_data/MNIST/raw/t10k-images-idx3-ubyte.gz\n",
            "Downloading http://yann.lecun.com/exdb/mnist/t10k-labels-idx1-ubyte.gz to /root/.pytorch/MNIST_data/MNIST/raw/t10k-labels-idx1-ubyte.gz\n"
          ],
          "name": "stdout"
        },
        {
          "output_type": "stream",
          "text": [
            "8192it [00:00, 51449.13it/s]            \n"
          ],
          "name": "stderr"
        },
        {
          "output_type": "stream",
          "text": [
            "Extracting /root/.pytorch/MNIST_data/MNIST/raw/t10k-labels-idx1-ubyte.gz\n",
            "Processing...\n",
            "Done!\n"
          ],
          "name": "stdout"
        }
      ]
    },
    {
      "cell_type": "markdown",
      "metadata": {
        "id": "_1FwKYKYAWdV",
        "colab_type": "text"
      },
      "source": [
        "We have the training data loaded into `trainloader` and we make that an iterator with `iter(trainloader)`. Later, we'll use this to loop through the dataset for training, like\n",
        "\n",
        "```python\n",
        "for image, label in trainloader:\n",
        "    ## do things with images and labels\n",
        "```\n",
        "\n",
        "You'll notice I created the `trainloader` with a batch size of 64, and `shuffle=True`. The batch size is the number of images we get in one iteration from the data loader and pass through our network, often called a *batch*. And `shuffle=True` tells it to shuffle the dataset every time we start going through the data loader again. But here I'm just grabbing the first batch so we can check out the data. We can see below that `images` is just a tensor with size `(64, 1, 28, 28)`. So, 64 images per batch, 1 color channel, and 28x28 images."
      ]
    },
    {
      "cell_type": "code",
      "metadata": {
        "id": "v9P7wpJ3AWdV",
        "colab_type": "code",
        "colab": {
          "base_uri": "https://localhost:8080/",
          "height": 69
        },
        "outputId": "52b31b59-edb4-43ee-84aa-78997d46ea2b"
      },
      "source": [
        "dataiter = iter(trainloader)\n",
        "images, labels = dataiter.next()\n",
        "print(type(images))\n",
        "print(images.shape)\n",
        "print(labels.shape)"
      ],
      "execution_count": 39,
      "outputs": [
        {
          "output_type": "stream",
          "text": [
            "<class 'torch.Tensor'>\n",
            "torch.Size([64, 1, 28, 28])\n",
            "torch.Size([64])\n"
          ],
          "name": "stdout"
        }
      ]
    },
    {
      "cell_type": "markdown",
      "metadata": {
        "id": "DlY6-3NEAWdY",
        "colab_type": "text"
      },
      "source": [
        "This is what one of the images looks like. "
      ]
    },
    {
      "cell_type": "code",
      "metadata": {
        "id": "oF7fHDJnAWdZ",
        "colab_type": "code",
        "colab": {
          "base_uri": "https://localhost:8080/",
          "height": 267
        },
        "outputId": "f86a170f-acd6-4e7c-aa96-a9fe1f950a35"
      },
      "source": [
        "plt.imshow(images[1].numpy().squeeze(), cmap='Greys_r');"
      ],
      "execution_count": 40,
      "outputs": [
        {
          "output_type": "display_data",
          "data": {
            "image/png": "[encoded data removed]",
            "text/plain": [
              "<Figure size 432x288 with 1 Axes>"
            ]
          },
          "metadata": {
            "tags": [],
            "image/png": {
              "width": 253,
              "height": 250
            }
          }
        }
      ]
    },
    {
      "cell_type": "markdown",
      "metadata": {
        "id": "VUpygbo1AWdb",
        "colab_type": "text"
      },
      "source": [
        "First, let's try to build a simple network for this dataset using weight matrices and matrix multiplications. Then, we'll see how to do it using PyTorch's `nn` module which provides a much more convenient and powerful method for defining network architectures.\n",
        "\n",
        "The networks you've seen so far are called *fully-connected* or *dense* networks. Each unit in one layer is connected to each unit in the next layer. In fully-connected networks, the input to each layer must be a one-dimensional vector (which can be stacked into a 2D tensor as a batch of multiple examples). However, our images are 28x28 2D tensors, so we need to convert them into 1D vectors. Thinking about sizes, we need to convert the batch of images with shape `(64, 1, 28, 28)` to a have a shape of `(64, 784)`, 784 is 28 times 28. This is typically called *flattening*, we flattened the 2D images into 1D vectors.\n",
        "\n",
        "Previously you built a network with one output unit. Here we need 10 output units, one for each digit. We want our network to predict the digit shown in an image, so what we'll do is calculate probabilities that the image is of any one digit or class. This ends up being a discrete probability distribution over the classes (digits) that tells us the most likely class for the image. That means we need 10 output units for the 10 classes (digits). We'll see how to convert the network output into a probability distribution next.\n",
        "\n",
        "> **Exercise:** Flatten the batch of images `images`. Then build a multi-layer network with 784 input units, 256 hidden units, and 10 output units using random tensors for the weights and biases. For now, use a sigmoid activation for the hidden layer. Leave the output layer without an activation, we'll add one that gives us a probability distribution next."
      ]
    },
    {
      "cell_type": "code",
      "metadata": {
        "id": "zM1UKlFMAWdc",
        "colab_type": "code",
        "colab": {
          "base_uri": "https://localhost:8080/",
          "height": 2291
        },
        "outputId": "ddebc180-81e8-426a-802f-8b4f323a82ca"
      },
      "source": [
        "# Check the images shape \n",
        "print(\"Images shape: {}\".format(images.shape))\n",
        "## Your solution - Use view with -1 and all other dimensions will be inferred\n",
        "images_flatten = images.view(64,-1)\n",
        "print(\"Flatten Images shape: {}\".format(images_flatten.shape))\n",
        "## Another way to do it is using torch.flatten\n",
        "## img_flatten = torch.flatten(images,1)\n",
        "\n",
        "input_layer = images_flatten.shape[1]\n",
        "output_units = 10 # representative of the 10 digits \n",
        "hidden_units = 256 \n",
        "\n",
        "# Weights for inputs to hidden layer\n",
        "W1 = torch.randn(input_layer, hidden_units)\n",
        "# Weights for hidden layer to output layer\n",
        "W2 = torch.randn(hidden_units, output_units)\n",
        "\n",
        "# and bias terms for hidden and output layers\n",
        "B1 = torch.randn((1, hidden_units))\n",
        "B2 = torch.randn((1, output_units)) \n",
        "\n",
        "first_layer = torch.sigmoid(torch.mm(images_flatten, W1) + B1)\n",
        "# output of your network, should have shape (64,10)\n",
        "out = torch.mm(first_layer, W2) + B2\n",
        "print(\"Output is: {}\".format(out))\n"
      ],
      "execution_count": 57,
      "outputs": [
        {
          "output_type": "stream",
          "text": [
            "Images shape: torch.Size([64, 1, 28, 28])\n",
            "Flatten Images shape: torch.Size([64, 784])\n",
            "Output is: tensor([[-9.8235e-01,  1.3306e+01, -1.4643e+01, -1.3754e+01,  9.0270e+00,\n",
            "          1.8845e+00,  1.3531e+00, -1.4133e+01,  2.6971e-01,  7.0199e+00],\n",
            "        [-7.9672e+00,  1.3515e+01, -1.2870e+01, -7.6763e+00, -1.9461e+00,\n",
            "         -5.2519e+00, -4.4813e+00,  5.9034e+00,  7.8471e+00,  1.4771e+01],\n",
            "        [-6.7775e+00,  1.0245e+01, -1.2486e+01, -6.2972e+00, -1.2568e+00,\n",
            "          7.1730e+00, -7.1718e+00, -9.5474e+00,  8.8964e+00,  2.9686e+00],\n",
            "        [-1.8387e+01,  1.3701e+01, -1.8979e+01, -1.9018e+01,  1.1825e+01,\n",
            "         -1.3626e+01, -8.9588e+00, -2.2989e+00,  6.6688e+00,  9.8542e+00],\n",
            "        [-7.9054e+00,  1.2741e+01, -7.6769e+00, -9.8843e+00,  1.3793e+01,\n",
            "          1.5397e+00,  2.9832e+00, -5.7645e+00,  2.2579e-01,  6.2266e+00],\n",
            "        [-1.9601e+01,  1.1732e+01, -1.5022e+01, -7.9526e+00, -1.3109e+01,\n",
            "          2.3000e+00,  1.5152e+00, -8.2103e+00,  7.2357e-02,  1.2291e+01],\n",
            "        [-5.8501e+00,  1.1395e+01, -1.5716e+01, -1.0845e+01, -1.2434e+01,\n",
            "         -5.7627e+00,  2.1101e+00, -1.2108e+01,  2.7311e+00,  1.4439e+01],\n",
            "        [-5.1772e-02,  1.5155e+01, -1.7321e+01, -1.1877e+01,  2.3676e-01,\n",
            "          5.6896e+00, -7.8221e+00, -1.0749e+01,  1.7488e-01,  1.0154e+01],\n",
            "        [-3.2265e+00,  4.3878e+00, -1.2254e+01, -1.1106e+01,  7.0507e+00,\n",
            "          6.6029e+00, -4.2789e+00, -6.5864e+00, -7.8577e-01,  8.9157e+00],\n",
            "        [-8.6769e+00,  1.8040e+01, -1.3017e+01, -1.2544e+01,  3.1875e+00,\n",
            "          7.9126e+00,  3.3899e+00, -1.0499e+01,  3.4870e+00,  9.7616e+00],\n",
            "        [-8.5165e+00,  1.1146e+01, -2.1196e+01, -1.0276e+01,  1.9364e-01,\n",
            "         -1.4262e+01, -7.9934e+00, -2.7964e+00, -6.6397e+00,  1.4849e+01],\n",
            "        [-7.8970e+00,  1.9957e+01, -9.8122e+00, -1.6673e+01, -4.5553e+00,\n",
            "          9.0150e-01, -1.0947e+01,  2.0870e+00,  6.3255e+00,  7.1140e+00],\n",
            "        [-7.4553e+00,  4.9464e+00, -1.0348e+01, -1.0565e+01,  1.1669e+01,\n",
            "          8.0215e+00, -9.8103e+00, -1.6833e+00,  1.2021e+01,  1.2398e+01],\n",
            "        [-5.2752e+00,  1.1077e+01, -9.1138e+00, -8.7152e+00, -1.7062e+00,\n",
            "         -1.5925e+01,  1.4334e+00,  3.6968e-01,  7.6945e+00,  7.2693e+00],\n",
            "        [-5.7155e+00,  1.0293e+01, -1.4933e+01, -1.0237e+01, -4.3645e+00,\n",
            "         -7.3062e+00,  4.4058e+00, -1.5805e+01,  3.6757e+00,  1.0917e+01],\n",
            "        [-7.1210e+00,  4.3850e+00, -6.4386e+00, -3.9677e+00,  5.2860e+00,\n",
            "         -3.3231e+00, -4.0911e-01, -8.3918e+00,  4.8333e+00,  1.5206e+01],\n",
            "        [-1.0109e+01,  6.4459e+00, -1.8004e+01, -1.2411e+01,  9.0146e+00,\n",
            "         -4.5339e+00,  2.4712e-01, -3.2009e+00,  6.0444e-01,  1.4370e+01],\n",
            "        [-1.9628e+01,  6.7367e+00, -1.0028e+01, -1.3528e+01, -2.5960e+00,\n",
            "         -6.0451e+00, -1.1850e+00, -8.7897e+00,  4.5472e+00,  3.9517e+00],\n",
            "        [-3.6543e+00,  1.0873e+01, -1.1333e+01, -4.7683e-01,  3.4610e+00,\n",
            "         -2.3319e+00, -3.6220e+00, -2.0786e+01, -6.2106e+00,  1.3267e+01],\n",
            "        [-1.0828e+01,  1.2539e+01, -1.2646e+01, -8.2174e+00,  9.3790e+00,\n",
            "         -4.0830e+00, -4.2659e+00, -8.2609e+00,  1.1112e+00,  3.2891e+00],\n",
            "        [-1.0868e+01,  2.8030e+01, -1.2118e+01, -1.1892e+01, -1.3227e+00,\n",
            "         -1.7175e+00,  3.2160e+00, -1.0513e+01,  2.2244e+00,  9.6244e+00],\n",
            "        [ 3.2504e+00,  7.0563e+00, -7.4619e+00, -1.5808e+01,  1.2566e+01,\n",
            "         -4.7677e+00, -9.5065e+00, -9.0159e+00,  7.2126e+00,  7.8816e+00],\n",
            "        [-7.3492e+00,  8.0025e+00, -1.4088e+01, -4.1941e+00, -4.4964e-02,\n",
            "         -9.2120e-02, -1.1045e+00, -9.5469e+00, -3.4013e+00,  1.2322e+01],\n",
            "        [-1.7119e+01,  1.1823e+01, -1.0681e+01, -3.4363e+00, -8.2890e-01,\n",
            "         -7.2939e+00, -5.6639e+00, -9.1673e-01,  4.8915e+00,  1.4448e+01],\n",
            "        [-1.7943e+01,  2.2058e+01, -9.1662e+00, -8.6100e+00,  8.6699e+00,\n",
            "         -2.5450e+00, -5.2978e+00, -3.1758e+00,  2.2240e+00,  1.2290e+01],\n",
            "        [-1.8700e+00,  7.7828e+00, -1.9513e+01, -1.2283e+01, -1.8293e+00,\n",
            "         -6.1030e+00, -3.7738e+00, -1.9399e+01,  3.4283e-01,  9.8972e+00],\n",
            "        [-1.4912e+01,  6.5117e+00, -1.1589e+01, -4.3217e+00,  1.1788e+01,\n",
            "         -1.2919e+01, -1.6754e+01,  1.5319e+00,  9.6739e+00,  7.7029e+00],\n",
            "        [-9.1825e+00,  1.1976e+01, -1.3948e+01, -3.1638e+00, -2.2542e+00,\n",
            "          5.5269e+00, -1.6718e+01, -7.1060e+00,  5.4652e+00,  2.5702e+01],\n",
            "        [-9.4788e+00, -1.4024e-01, -1.6294e+01, -8.9687e+00, -1.3281e+00,\n",
            "         -1.3665e+00, -1.0216e+01, -1.1103e+01,  1.8555e+01,  8.8183e+00],\n",
            "        [-1.0279e+01,  9.1486e+00, -7.2595e+00, -5.5048e+00,  1.2220e+01,\n",
            "         -4.9400e+00, -6.9240e+00, -3.5683e+00,  2.9642e+00,  8.3934e+00],\n",
            "        [-1.0591e+01,  6.9636e+00, -1.3832e+01, -9.2150e+00, -6.8640e+00,\n",
            "         -1.2586e+01,  3.0471e+00, -2.2369e+01,  7.2645e-01,  1.0811e+01],\n",
            "        [-1.5161e+01,  1.0185e+01, -1.3924e+01, -6.9089e+00, -1.1929e+00,\n",
            "         -1.0617e+01,  3.8977e+00, -8.9053e+00,  5.6149e+00,  1.5964e+01],\n",
            "        [-7.7783e+00,  1.8834e+01, -1.1231e+01, -1.0877e+01, -5.4200e+00,\n",
            "          1.1650e+00, -3.7356e+00, -1.2043e+01,  4.1530e+00,  1.1355e+01],\n",
            "        [-6.3316e+00,  1.6212e+01, -1.0908e+01, -1.2707e+01,  1.3033e+01,\n",
            "          3.3628e-01, -3.0465e+00, -1.0095e+01,  9.1883e+00,  1.2915e+01],\n",
            "        [-9.3392e+00,  1.1356e+01, -9.6964e+00, -3.0660e+00, -1.6012e-02,\n",
            "         -8.8220e-01, -1.1356e+01, -9.3928e+00,  2.8354e+00,  2.3597e+01],\n",
            "        [-5.0024e+00,  1.7934e+01, -1.1593e+01, -7.6916e+00,  2.1736e+00,\n",
            "         -1.3934e+00, -3.7569e-01, -1.2438e+01, -3.1569e+00,  1.1849e+01],\n",
            "        [-1.4898e+01,  2.5588e+01, -2.6403e+00, -1.9319e+00, -4.0179e+00,\n",
            "          4.1372e+00, -2.9483e+00, -1.0751e+01, -1.1192e+00,  1.6145e+01],\n",
            "        [-2.6730e+00,  1.0971e+01, -6.2103e+00, -2.5146e+00, -1.2058e+00,\n",
            "          1.2766e+00, -1.3870e+01,  9.6054e-01,  1.3249e+01,  1.7163e+01],\n",
            "        [-9.6374e+00,  1.0672e+01, -7.7244e+00, -5.1812e+00,  6.2024e+00,\n",
            "         -8.6296e+00,  7.6995e+00, -1.3464e+01, -2.8057e+00,  1.1422e+01],\n",
            "        [-3.0575e+00,  1.3916e+01, -9.4753e+00, -1.3596e+01, -1.0148e+01,\n",
            "         -3.4893e+00,  2.3546e+00, -6.6324e+00,  4.7071e+00,  2.1442e+01],\n",
            "        [-1.0349e+01,  8.3823e+00, -1.6007e+01, -5.7736e+00,  7.2202e+00,\n",
            "          4.2417e+00, -9.9013e+00, -4.8205e+00, -2.1905e+00,  1.4806e+01],\n",
            "        [-5.1828e+00,  1.1502e+01, -1.0696e+01, -8.8310e+00,  8.7441e+00,\n",
            "          7.6908e+00, -3.6227e+00, -2.2772e+00, -2.3876e-01,  7.5978e+00],\n",
            "        [-3.0201e+00,  8.8907e+00, -1.4901e+01, -1.0762e+01, -1.1933e+00,\n",
            "          3.4515e+00,  3.8142e+00, -1.2795e+01,  3.9042e+00,  8.5723e+00],\n",
            "        [-9.6220e+00,  1.1732e+01, -1.2283e+01, -1.8320e+01, -5.2874e+00,\n",
            "         -4.0993e+00, -5.9824e+00, -1.4175e+01, -1.3117e-02,  9.4912e+00],\n",
            "        [-3.0605e+00,  9.3521e+00, -1.4248e+01, -1.1387e+01, -5.1729e+00,\n",
            "         -3.8423e+00, -3.2872e+00, -1.2978e+01,  1.2555e+00,  8.8558e+00],\n",
            "        [-1.1190e+01,  5.3576e+00, -9.5729e+00, -7.1918e+00,  5.0297e+00,\n",
            "         -6.7479e+00, -5.2844e+00, -5.9141e+00,  5.8616e+00,  1.7197e+01],\n",
            "        [-1.0373e+01,  1.3368e+01, -1.6264e+01, -1.1289e+01, -1.7865e+00,\n",
            "          3.4876e+00,  1.3617e+00, -7.2391e+00, -5.5691e+00,  1.1175e+01],\n",
            "        [-1.6916e+01,  1.2244e+01, -1.1402e+01, -1.3723e+01, -4.5571e-01,\n",
            "          8.3289e-01, -8.1082e+00, -9.4263e+00,  7.8619e-04,  6.2415e+00],\n",
            "        [-3.4390e+00,  4.4077e+00, -1.6855e+01, -5.7755e+00,  1.4116e-01,\n",
            "         -1.3530e+00, -2.6491e+00, -9.4799e+00,  4.0772e-01,  7.7559e+00],\n",
            "        [-4.3530e+00,  1.6360e+01, -1.0044e+01, -4.8250e+00,  6.7058e+00,\n",
            "         -5.2434e+00, -5.2504e+00, -5.8544e+00, -9.7341e-01,  1.5282e+01],\n",
            "        [-1.1508e+01,  1.9234e+01, -6.6076e+00, -9.5699e+00,  1.6312e+00,\n",
            "         -7.0902e+00,  7.8841e+00, -6.8451e+00,  6.7219e+00,  8.4098e+00],\n",
            "        [-2.6018e+01,  1.1743e+01, -1.5347e+01, -5.4553e+00, -3.0899e+00,\n",
            "         -1.3958e+01,  1.4350e+00, -4.6608e+00, -1.0194e+00,  1.2190e+01],\n",
            "        [-1.5441e+00,  1.2760e+01, -7.4580e+00, -1.0150e+00,  2.8936e+00,\n",
            "          4.8794e-01, -7.8578e+00, -9.8962e+00,  6.8692e+00,  8.7930e+00],\n",
            "        [-8.2519e+00,  1.2095e+01, -1.6339e+01, -1.1129e+01, -2.9872e+00,\n",
            "          5.3476e-01, -3.1459e+00, -1.1302e+01, -5.0066e+00,  1.0399e+01],\n",
            "        [ 5.1807e+00,  1.1816e+01, -6.0424e+00, -2.7766e+00,  2.5128e+00,\n",
            "          3.6414e+00, -7.9435e+00, -2.2230e+01,  5.4624e+00,  9.5866e+00],\n",
            "        [-7.6078e+00,  7.9934e+00, -1.3453e+01, -6.2346e+00, -1.5581e+00,\n",
            "          9.6678e-01, -3.0648e+00, -1.8169e+01, -1.7020e+00,  7.2949e+00],\n",
            "        [-9.9493e+00,  1.9333e+01, -1.6972e+01, -9.5803e+00,  1.9700e+00,\n",
            "         -1.0226e+00,  1.4525e+00, -1.7601e+01,  2.3446e+00,  8.1875e+00],\n",
            "        [-8.0494e+00,  1.7966e+01, -4.7335e+00, -7.9002e+00,  1.4350e+00,\n",
            "         -3.1281e+00, -3.2283e+00,  4.5992e+00,  1.9201e+00,  8.3742e+00],\n",
            "        [-4.3541e+00,  1.4285e+01, -1.3739e+01, -1.3289e+01, -3.3998e+00,\n",
            "         -8.4927e+00,  4.5184e+00, -9.6415e+00, -5.9974e+00,  8.9339e+00],\n",
            "        [-2.1769e+00,  7.6792e+00,  2.7548e+00, -9.5713e+00,  3.7669e+00,\n",
            "         -1.7316e+00, -4.9506e+00, -1.0052e+01,  6.6952e+00,  6.2832e+00],\n",
            "        [-1.3020e+01,  1.8449e+01, -8.4286e+00, -1.3420e+01,  2.8227e+00,\n",
            "          6.2187e+00,  1.4462e+00, -1.2635e+01,  5.3634e+00,  7.1490e+00],\n",
            "        [-4.1092e+00,  1.3541e+01, -2.3790e+00, -1.1631e+01, -1.1082e+00,\n",
            "         -3.3117e+00,  1.8313e+00, -4.9289e+00,  3.5645e+00,  1.6979e+01],\n",
            "        [-5.1309e+00,  5.3711e+00, -6.7900e+00, -2.9300e+00,  3.3115e+00,\n",
            "          2.3658e+00,  4.9939e-02, -1.5721e+01,  9.5829e+00,  1.4878e+01],\n",
            "        [-4.0328e+00,  1.6051e+01, -1.1144e+01, -1.2160e+01, -9.0137e-01,\n",
            "         -4.3297e+00, -3.6325e+00, -1.1021e+01, -4.2258e+00,  1.6631e+01]])\n"
          ],
          "name": "stdout"
        }
      ]
    },
    {
      "cell_type": "markdown",
      "metadata": {
        "id": "wKsvS2T7AWde",
        "colab_type": "text"
      },
      "source": [
        "Now we have 10 outputs for our network. We want to pass in an image to our network and get out a probability distribution over the classes that tells us the likely class(es) the image belongs to. Something that looks like this:\n",
        "<img src='assets/image_distribution.png' width=500px>\n",
        "\n",
        "Here we see that the probability for each class is roughly the same. This is representing an untrained network, it hasn't seen any data yet so it just returns a uniform distribution with equal probabilities for each class.\n",
        "\n",
        "To calculate this probability distribution, we often use the [**softmax** function](https://en.wikipedia.org/wiki/Softmax_function). Mathematically this looks like\n",
        "\n",
        "$$\n",
        "\\Large \\sigma(x_i) = \\cfrac{e^{x_i}}{\\sum_k^K{e^{x_k}}}\n",
        "$$\n",
        "\n",
        "What this does is squish each input $x_i$ between 0 and 1 and normalizes the values to give you a proper probability distribution where the probabilites sum up to one.\n",
        "\n",
        "> **Exercise:** Implement a function `softmax` that performs the softmax calculation and returns probability distributions for each example in the batch. Note that you'll need to pay attention to the shapes when doing this. If you have a tensor `a` with shape `(64, 10)` and a tensor `b` with shape `(64,)`, doing `a/b` will give you an error because PyTorch will try to do the division across the columns (called broadcasting) but you'll get a size mismatch. The way to think about this is for each of the 64 examples, you only want to divide by one value, the sum in the denominator. So you need `b` to have a shape of `(64, 1)`. This way PyTorch will divide the 10 values in each row of `a` by the one value in each row of `b`. Pay attention to how you take the sum as well. You'll need to define the `dim` keyword in `torch.sum`. Setting `dim=0` takes the sum across the rows while `dim=1` takes the sum across the columns."
      ]
    },
    {
      "cell_type": "code",
      "metadata": {
        "id": "uAfvmiHsAWdf",
        "colab_type": "code",
        "colab": {
          "base_uri": "https://localhost:8080/",
          "height": 193
        },
        "outputId": "81bd42de-1d38-4136-c665-890724759794"
      },
      "source": [
        "def softmax(x):\n",
        "    ## TODO: Implement the softmax function here\n",
        "    return torch.exp(x) / torch.sum(torch.exp(x),dim=1).view(-1,1)\n",
        "\n",
        "# Here, out should be the output of the network in the previous excercise with shape (64,10)\n",
        "probabilities = softmax(out)\n",
        "\n",
        "# Does it have the right shape? Should be (64, 10)\n",
        "print(probabilities.shape)\n",
        "# Does it sum to 1?\n",
        "print(probabilities.sum(dim=1))"
      ],
      "execution_count": 60,
      "outputs": [
        {
          "output_type": "stream",
          "text": [
            "torch.Size([64, 10])\n",
            "tensor([1.0000, 1.0000, 1.0000, 1.0000, 1.0000, 1.0000, 1.0000, 1.0000, 1.0000,\n",
            "        1.0000, 1.0000, 1.0000, 1.0000, 1.0000, 1.0000, 1.0000, 1.0000, 1.0000,\n",
            "        1.0000, 1.0000, 1.0000, 1.0000, 1.0000, 1.0000, 1.0000, 1.0000, 1.0000,\n",
            "        1.0000, 1.0000, 1.0000, 1.0000, 1.0000, 1.0000, 1.0000, 1.0000, 1.0000,\n",
            "        1.0000, 1.0000, 1.0000, 1.0000, 1.0000, 1.0000, 1.0000, 1.0000, 1.0000,\n",
            "        1.0000, 1.0000, 1.0000, 1.0000, 1.0000, 1.0000, 1.0000, 1.0000, 1.0000,\n",
            "        1.0000, 1.0000, 1.0000, 1.0000, 1.0000, 1.0000, 1.0000, 1.0000, 1.0000,\n",
            "        1.0000])\n"
          ],
          "name": "stdout"
        }
      ]
    },
    {
      "cell_type": "markdown",
      "metadata": {
        "id": "L4NHDI30AWdh",
        "colab_type": "text"
      },
      "source": [
        "## Building networks with PyTorch\n",
        "\n",
        "PyTorch provides a module `nn` that makes building networks much simpler. Here I'll show you how to build the same one as above with 784 inputs, 256 hidden units, 10 output units and a softmax output."
      ]
    },
    {
      "cell_type": "code",
      "metadata": {
        "id": "70_jYTyRAWdi",
        "colab_type": "code",
        "colab": {}
      },
      "source": [
        "from torch import nn"
      ],
      "execution_count": 0,
      "outputs": []
    },
    {
      "cell_type": "code",
      "metadata": {
        "id": "_lpqVbjKAWdl",
        "colab_type": "code",
        "colab": {}
      },
      "source": [
        "class Network(nn.Module):\n",
        "    def __init__(self):\n",
        "        super().__init__()\n",
        "        \n",
        "        # Inputs to hidden layer linear transformation\n",
        "        self.hidden = nn.Linear(784, 256)\n",
        "        # Output layer, 10 units - one for each digit\n",
        "        self.output = nn.Linear(256, 10)\n",
        "        \n",
        "        # Define sigmoid activation and softmax output \n",
        "        self.sigmoid = nn.Sigmoid()\n",
        "        self.softmax = nn.Softmax(dim=1)\n",
        "        \n",
        "    def forward(self, x):\n",
        "        # Pass the input tensor through each of our operations\n",
        "        x = self.hidden(x)\n",
        "        x = self.sigmoid(x)\n",
        "        x = self.output(x)\n",
        "        x = self.softmax(x)\n",
        "        \n",
        "        return x"
      ],
      "execution_count": 0,
      "outputs": []
    },
    {
      "cell_type": "markdown",
      "metadata": {
        "id": "4rYApfhbAWdo",
        "colab_type": "text"
      },
      "source": [
        "Let's go through this bit by bit.\n",
        "\n",
        "```python\n",
        "class Network(nn.Module):\n",
        "```\n",
        "\n",
        "Here we're inheriting from `nn.Module`. Combined with `super().__init__()` this creates a class that tracks the architecture and provides a lot of useful methods and attributes. It is mandatory to inherit from `nn.Module` when you're creating a class for your network. The name of the class itself can be anything.\n",
        "\n",
        "```python\n",
        "self.hidden = nn.Linear(784, 256)\n",
        "```\n",
        "\n",
        "This line creates a module for a linear transformation, $x\\mathbf{W} + b$, with 784 inputs and 256 outputs and assigns it to `self.hidden`. The module automatically creates the weight and bias tensors which we'll use in the `forward` method. You can access the weight and bias tensors once the network (`net`) is created with `net.hidden.weight` and `net.hidden.bias`.\n",
        "\n",
        "```python\n",
        "self.output = nn.Linear(256, 10)\n",
        "```\n",
        "\n",
        "Similarly, this creates another linear transformation with 256 inputs and 10 outputs.\n",
        "\n",
        "```python\n",
        "self.sigmoid = nn.Sigmoid()\n",
        "self.softmax = nn.Softmax(dim=1)\n",
        "```\n",
        "\n",
        "Here I defined operations for the sigmoid activation and softmax output. Setting `dim=1` in `nn.Softmax(dim=1)` calculates softmax across the columns.\n",
        "\n",
        "```python\n",
        "def forward(self, x):\n",
        "```\n",
        "\n",
        "PyTorch networks created with `nn.Module` must have a `forward` method defined. It takes in a tensor `x` and passes it through the operations you defined in the `__init__` method.\n",
        "\n",
        "```python\n",
        "x = self.hidden(x)\n",
        "x = self.sigmoid(x)\n",
        "x = self.output(x)\n",
        "x = self.softmax(x)\n",
        "```\n",
        "\n",
        "Here the input tensor `x` is passed through each operation and reassigned to `x`. We can see that the input tensor goes through the hidden layer, then a sigmoid function, then the output layer, and finally the softmax function. It doesn't matter what you name the variables here, as long as the inputs and outputs of the operations match the network architecture you want to build. The order in which you define things in the `__init__` method doesn't matter, but you'll need to sequence the operations correctly in the `forward` method.\n",
        "\n",
        "Now we can create a `Network` object."
      ]
    },
    {
      "cell_type": "code",
      "metadata": {
        "id": "vr2Zpxi1AWdo",
        "colab_type": "code",
        "colab": {
          "base_uri": "https://localhost:8080/",
          "height": 121
        },
        "outputId": "c56a9cfd-b90b-430d-d54b-6b30edeae9c2"
      },
      "source": [
        "# Create the network and look at it's text representation\n",
        "model = Network()\n",
        "model"
      ],
      "execution_count": 63,
      "outputs": [
        {
          "output_type": "execute_result",
          "data": {
            "text/plain": [
              "Network(\n",
              "  (hidden): Linear(in_features=784, out_features=256, bias=True)\n",
              "  (output): Linear(in_features=256, out_features=10, bias=True)\n",
              "  (sigmoid): Sigmoid()\n",
              "  (softmax): Softmax()\n",
              ")"
            ]
          },
          "metadata": {
            "tags": []
          },
          "execution_count": 63
        }
      ]
    },
    {
      "cell_type": "markdown",
      "metadata": {
        "id": "r-Aowa7HAWdq",
        "colab_type": "text"
      },
      "source": [
        "You can define the network somewhat more concisely and clearly using the `torch.nn.functional` module. This is the most common way you'll see networks defined as many operations are simple element-wise functions. We normally import this module as `F`, `import torch.nn.functional as F`."
      ]
    },
    {
      "cell_type": "code",
      "metadata": {
        "id": "NTo2jYk_AWdr",
        "colab_type": "code",
        "colab": {}
      },
      "source": [
        "import torch.nn.functional as F\n",
        "\n",
        "class Network(nn.Module):\n",
        "    def __init__(self):\n",
        "        super().__init__()\n",
        "        # Inputs to hidden layer linear transformation\n",
        "        self.hidden = nn.Linear(784, 256)\n",
        "        # Output layer, 10 units - one for each digit\n",
        "        self.output = nn.Linear(256, 10)\n",
        "        \n",
        "    def forward(self, x):\n",
        "        # Hidden layer with sigmoid activation\n",
        "        x = F.sigmoid(self.hidden(x))\n",
        "        # Output layer with softmax activation\n",
        "        x = F.softmax(self.output(x), dim=1)\n",
        "        \n",
        "        return x"
      ],
      "execution_count": 0,
      "outputs": []
    },
    {
      "cell_type": "markdown",
      "metadata": {
        "id": "hY3J7njbAWdt",
        "colab_type": "text"
      },
      "source": [
        "### Activation functions\n",
        "\n",
        "So far we've only been looking at the sigmoid activation function, but in general any function can be used as an activation function. The only requirement is that for a network to approximate a non-linear function, the activation functions must be non-linear. Here are a few more examples of common activation functions: Tanh (hyperbolic tangent), and ReLU (rectified linear unit).\n",
        "\n",
        "<img src=\"assets/activation.png\" width=700px>\n",
        "\n",
        "In practice, the ReLU function is used almost exclusively as the activation function for hidden layers."
      ]
    },
    {
      "cell_type": "markdown",
      "metadata": {
        "id": "MhoDlhr-AWdu",
        "colab_type": "text"
      },
      "source": [
        "### Your Turn to Build a Network\n",
        "\n",
        "<img src=\"assets/mlp_mnist.png\" width=600px>\n",
        "\n",
        "> **Exercise:** Create a network with 784 input units, a hidden layer with 128 units and a ReLU activation, then a hidden layer with 64 units and a ReLU activation, and finally an output layer with a softmax activation as shown above. You can use a ReLU activation with the `nn.ReLU` module or `F.relu` function.\n",
        "\n",
        "It's good practice to name your layers by their type of network, for instance 'fc' to represent a fully-connected layer. As you code your solution, use `fc1`, `fc2`, and `fc3` as your layer names."
      ]
    },
    {
      "cell_type": "code",
      "metadata": {
        "scrolled": true,
        "id": "zjqs0Y2oAWdu",
        "colab_type": "code",
        "colab": {}
      },
      "source": [
        "## Your solution here\n",
        "class Network(nn.Module):\n",
        "    def __init__(self):\n",
        "        super().__init__()\n",
        "        # Inputs to hidden layer linear transformation\n",
        "        self.fc1 = nn.Linear(784, 128)\n",
        "        # Second layer \n",
        "        self.fc2 = nn.Linear(128, 64)\n",
        "        # Output layer, 10 units - one for each digit\n",
        "        self.output = nn.Linear(64, 10)\n",
        "        \n",
        "    def forward(self, x):\n",
        "        # Hidden layer with Relu activation\n",
        "        x = F.relu(self.fc1(x))\n",
        "        # Output layer with Relu activation\n",
        "        x = F.relu(self.fc2(x))\n",
        "        # Apply a softmax \n",
        "        x = F.softmax(self.output(x),  dim=1)\n",
        "        return x  \n",
        "      \n",
        "model = Network()"
      ],
      "execution_count": 0,
      "outputs": []
    },
    {
      "cell_type": "markdown",
      "metadata": {
        "id": "rt2cZ6NPAWdw",
        "colab_type": "text"
      },
      "source": [
        "### Initializing weights and biases\n",
        "\n",
        "The weights and such are automatically initialized for you, but it's possible to customize how they are initialized. The weights and biases are tensors attached to the layer you defined, you can get them with `model.fc1.weight` for instance."
      ]
    },
    {
      "cell_type": "code",
      "metadata": {
        "id": "GnT4s39OAWdx",
        "colab_type": "code",
        "colab": {
          "base_uri": "https://localhost:8080/",
          "height": 505
        },
        "outputId": "6d56955d-788f-4362-c3f2-a5cb36118934"
      },
      "source": [
        "print(model.fc1.weight)\n",
        "print(model.fc1.bias)"
      ],
      "execution_count": 75,
      "outputs": [
        {
          "output_type": "stream",
          "text": [
            "Parameter containing:\n",
            "tensor([[ 0.0201,  0.0172, -0.0154,  ..., -0.0280, -0.0012,  0.0148],\n",
            "        [-0.0063, -0.0127,  0.0076,  ..., -0.0167,  0.0120,  0.0292],\n",
            "        [-0.0205,  0.0184,  0.0333,  ..., -0.0078,  0.0201, -0.0256],\n",
            "        ...,\n",
            "        [ 0.0096, -0.0154, -0.0198,  ..., -0.0017,  0.0136,  0.0212],\n",
            "        [ 0.0352, -0.0056, -0.0016,  ..., -0.0296, -0.0222,  0.0049],\n",
            "        [ 0.0155, -0.0088, -0.0323,  ...,  0.0239, -0.0108,  0.0180]],\n",
            "       requires_grad=True)\n",
            "Parameter containing:\n",
            "tensor([ 0.0352, -0.0346, -0.0259, -0.0302,  0.0295,  0.0166, -0.0126,  0.0352,\n",
            "         0.0134, -0.0341, -0.0178, -0.0351, -0.0228,  0.0343, -0.0040, -0.0262,\n",
            "        -0.0157, -0.0142, -0.0078,  0.0332, -0.0325, -0.0299,  0.0144,  0.0238,\n",
            "        -0.0235, -0.0203, -0.0127,  0.0213,  0.0082, -0.0169, -0.0271, -0.0011,\n",
            "        -0.0117, -0.0135, -0.0103,  0.0200, -0.0262, -0.0202, -0.0030, -0.0021,\n",
            "        -0.0273, -0.0174,  0.0160,  0.0354, -0.0257,  0.0073, -0.0266, -0.0289,\n",
            "         0.0254, -0.0210, -0.0061, -0.0236, -0.0153,  0.0111,  0.0346,  0.0118,\n",
            "         0.0232, -0.0321,  0.0039, -0.0233, -0.0109, -0.0222,  0.0125,  0.0024,\n",
            "         0.0103, -0.0183, -0.0010, -0.0223, -0.0044, -0.0296, -0.0027, -0.0080,\n",
            "         0.0175,  0.0023, -0.0258,  0.0106,  0.0114,  0.0222, -0.0297,  0.0333,\n",
            "         0.0166, -0.0064,  0.0186, -0.0176, -0.0016, -0.0307, -0.0206,  0.0145,\n",
            "         0.0024, -0.0177, -0.0155, -0.0266, -0.0141,  0.0295,  0.0165,  0.0355,\n",
            "        -0.0221, -0.0045,  0.0156,  0.0213, -0.0159,  0.0067, -0.0077, -0.0230,\n",
            "        -0.0139, -0.0195, -0.0093,  0.0229, -0.0094,  0.0118,  0.0311, -0.0329,\n",
            "         0.0225, -0.0044, -0.0130, -0.0354, -0.0273, -0.0294, -0.0273, -0.0012,\n",
            "         0.0302, -0.0250,  0.0316, -0.0009,  0.0070, -0.0072, -0.0216, -0.0238],\n",
            "       requires_grad=True)\n"
          ],
          "name": "stdout"
        }
      ]
    },
    {
      "cell_type": "markdown",
      "metadata": {
        "id": "f6kRrDq8AWdz",
        "colab_type": "text"
      },
      "source": [
        "For custom initialization, we want to modify these tensors in place. These are actually autograd *Variables*, so we need to get back the actual tensors with `model.fc1.weight.data`. Once we have the tensors, we can fill them with zeros (for biases) or random normal values."
      ]
    },
    {
      "cell_type": "code",
      "metadata": {
        "id": "3GS87B54AWdz",
        "colab_type": "code",
        "colab": {
          "base_uri": "https://localhost:8080/",
          "height": 141
        },
        "outputId": "21a9346c-af76-48e2-ffc1-57114292d22d"
      },
      "source": [
        "# Set biases to all zeros\n",
        "model.fc1.bias.data.fill_(0)"
      ],
      "execution_count": 76,
      "outputs": [
        {
          "output_type": "execute_result",
          "data": {
            "text/plain": [
              "tensor([0., 0., 0., 0., 0., 0., 0., 0., 0., 0., 0., 0., 0., 0., 0., 0., 0., 0., 0., 0., 0., 0., 0., 0.,\n",
              "        0., 0., 0., 0., 0., 0., 0., 0., 0., 0., 0., 0., 0., 0., 0., 0., 0., 0., 0., 0., 0., 0., 0., 0.,\n",
              "        0., 0., 0., 0., 0., 0., 0., 0., 0., 0., 0., 0., 0., 0., 0., 0., 0., 0., 0., 0., 0., 0., 0., 0.,\n",
              "        0., 0., 0., 0., 0., 0., 0., 0., 0., 0., 0., 0., 0., 0., 0., 0., 0., 0., 0., 0., 0., 0., 0., 0.,\n",
              "        0., 0., 0., 0., 0., 0., 0., 0., 0., 0., 0., 0., 0., 0., 0., 0., 0., 0., 0., 0., 0., 0., 0., 0.,\n",
              "        0., 0., 0., 0., 0., 0., 0., 0.])"
            ]
          },
          "metadata": {
            "tags": []
          },
          "execution_count": 76
        }
      ]
    },
    {
      "cell_type": "code",
      "metadata": {
        "id": "fme59uzHAWd2",
        "colab_type": "code",
        "colab": {
          "base_uri": "https://localhost:8080/",
          "height": 139
        },
        "outputId": "dcb6ddbd-dd18-4a4e-9b42-7eafe5719f55"
      },
      "source": [
        "# sample from random normal with standard dev = 0.01\n",
        "model.fc1.weight.data.normal_(std=0.01)"
      ],
      "execution_count": 77,
      "outputs": [
        {
          "output_type": "execute_result",
          "data": {
            "text/plain": [
              "tensor([[-0.0022,  0.0019, -0.0072,  ...,  0.0033,  0.0008,  0.0152],\n",
              "        [ 0.0013,  0.0050,  0.0057,  ...,  0.0060,  0.0026,  0.0157],\n",
              "        [-0.0156, -0.0241, -0.0092,  ..., -0.0116,  0.0068,  0.0071],\n",
              "        ...,\n",
              "        [ 0.0054,  0.0114,  0.0118,  ..., -0.0003,  0.0114, -0.0003],\n",
              "        [-0.0094, -0.0058,  0.0155,  ..., -0.0178, -0.0060,  0.0037],\n",
              "        [-0.0053,  0.0027, -0.0225,  ...,  0.0017,  0.0077, -0.0108]])"
            ]
          },
          "metadata": {
            "tags": []
          },
          "execution_count": 77
        }
      ]
    },
    {
      "cell_type": "markdown",
      "metadata": {
        "id": "dRaqCdDoAWd4",
        "colab_type": "text"
      },
      "source": [
        "### Forward pass\n",
        "\n",
        "Now that we have a network, let's see what happens when we pass in an image."
      ]
    },
    {
      "cell_type": "code",
      "metadata": {
        "id": "zNVu7lYPAWd6",
        "colab_type": "code",
        "colab": {
          "base_uri": "https://localhost:8080/",
          "height": 243
        },
        "outputId": "5bc24aa3-377d-422f-fa14-df61123105d0"
      },
      "source": [
        "# Grab some data \n",
        "dataiter = iter(trainloader)\n",
        "images, labels = dataiter.next()\n",
        "\n",
        "# Resize images into a 1D vector, new shape is (batch size, color channels, image pixels) \n",
        "images.resize_(64, 1, 784)\n",
        "# or images.resize_(images.shape[0], 1, 784) to automatically get batch size\n",
        "\n",
        "# Forward pass through the network\n",
        "img_idx = 0\n",
        "ps = model.forward(images[img_idx,:])\n",
        "\n",
        "img = images[img_idx]\n",
        "helper.view_classify(img.view(1, 28, 28), ps)"
      ],
      "execution_count": 126,
      "outputs": [
        {
          "output_type": "display_data",
          "data": {
            "image/png": "[encoded data removed]",
            "text/plain": [
              "<Figure size 432x648 with 2 Axes>"
            ]
          },
          "metadata": {
            "tags": [],
            "image/png": {
              "width": 423,
              "height": 226
            }
          }
        }
      ]
    },
    {
      "cell_type": "markdown",
      "metadata": {
        "id": "tNdvdFfRAWd8",
        "colab_type": "text"
      },
      "source": [
        "As you can see above, our network has basically no idea what this digit is. It's because we haven't trained it yet, all the weights are random!\n",
        "\n",
        "### Using `nn.Sequential`\n",
        "\n",
        "PyTorch provides a convenient way to build networks like this where a tensor is passed sequentially through operations, `nn.Sequential` ([documentation](https://pytorch.org/docs/master/nn.html#torch.nn.Sequential)). Using this to build the equivalent network:"
      ]
    },
    {
      "cell_type": "code",
      "metadata": {
        "id": "GF_JMzIEAWd9",
        "colab_type": "code",
        "colab": {
          "base_uri": "https://localhost:8080/",
          "height": 382
        },
        "outputId": "18e12481-710a-4edd-d5e3-ef31d38c710e"
      },
      "source": [
        "# Hyperparameters for our network\n",
        "input_size = 784\n",
        "hidden_sizes = [128, 64]\n",
        "output_size = 10\n",
        "\n",
        "# Build a feed-forward network\n",
        "model = nn.Sequential(nn.Linear(input_size, hidden_sizes[0]),\n",
        "                      nn.ReLU(),\n",
        "                      nn.Linear(hidden_sizes[0], hidden_sizes[1]),\n",
        "                      nn.ReLU(),\n",
        "                      nn.Linear(hidden_sizes[1], output_size),\n",
        "                      nn.Softmax(dim=1))\n",
        "print(model)\n",
        "\n",
        "# Forward pass through the network and display output\n",
        "images, labels = next(iter(trainloader))\n",
        "images.resize_(images.shape[0], 1, 784)\n",
        "ps = model.forward(images[0,:])\n",
        "helper.view_classify(images[0].view(1, 28, 28), ps)"
      ],
      "execution_count": 128,
      "outputs": [
        {
          "output_type": "stream",
          "text": [
            "Sequential(\n",
            "  (0): Linear(in_features=784, out_features=128, bias=True)\n",
            "  (1): ReLU()\n",
            "  (2): Linear(in_features=128, out_features=64, bias=True)\n",
            "  (3): ReLU()\n",
            "  (4): Linear(in_features=64, out_features=10, bias=True)\n",
            "  (5): Softmax()\n",
            ")\n"
          ],
          "name": "stdout"
        },
        {
          "output_type": "display_data",
          "data": {
            "image/png": "[encoded data removed]",
            "text/plain": [
              "<Figure size 432x648 with 2 Axes>"
            ]
          },
          "metadata": {
            "tags": [],
            "image/png": {
              "width": 423,
              "height": 226
            }
          }
        }
      ]
    },
    {
      "cell_type": "markdown",
      "metadata": {
        "id": "zuseqwIYAWd_",
        "colab_type": "text"
      },
      "source": [
        "Here our model is the same as before: 784 input units, a hidden layer with 128 units, ReLU activation, 64 unit hidden layer, another ReLU, then the output layer with 10 units, and the softmax output.\n",
        "\n",
        "The operations are available by passing in the appropriate index. For example, if you want to get first Linear operation and look at the weights, you'd use `model[0]`."
      ]
    },
    {
      "cell_type": "code",
      "metadata": {
        "id": "TvG8al5pAWeA",
        "colab_type": "code",
        "colab": {
          "base_uri": "https://localhost:8080/",
          "height": 191
        },
        "outputId": "f5c821ef-c97c-4035-b7d8-fc444efebc86"
      },
      "source": [
        "print(model[0])\n",
        "model[0].weight"
      ],
      "execution_count": 129,
      "outputs": [
        {
          "output_type": "stream",
          "text": [
            "Linear(in_features=784, out_features=128, bias=True)\n"
          ],
          "name": "stdout"
        },
        {
          "output_type": "execute_result",
          "data": {
            "text/plain": [
              "Parameter containing:\n",
              "tensor([[-0.0238, -0.0233,  0.0094,  ..., -0.0109,  0.0323, -0.0243],\n",
              "        [-0.0321,  0.0304,  0.0176,  ..., -0.0092,  0.0046, -0.0118],\n",
              "        [-0.0258,  0.0095, -0.0048,  ..., -0.0054,  0.0150, -0.0194],\n",
              "        ...,\n",
              "        [-0.0258,  0.0115, -0.0104,  ...,  0.0207,  0.0194,  0.0313],\n",
              "        [ 0.0193,  0.0280, -0.0198,  ..., -0.0224,  0.0354,  0.0102],\n",
              "        [ 0.0122,  0.0321,  0.0164,  ...,  0.0257,  0.0097,  0.0212]],\n",
              "       requires_grad=True)"
            ]
          },
          "metadata": {
            "tags": []
          },
          "execution_count": 129
        }
      ]
    },
    {
      "cell_type": "markdown",
      "metadata": {
        "id": "csd1e93yAWeC",
        "colab_type": "text"
      },
      "source": [
        "You can also pass in an `OrderedDict` to name the individual layers and operations, instead of using incremental integers. Note that dictionary keys must be unique, so _each operation must have a different name_."
      ]
    },
    {
      "cell_type": "code",
      "metadata": {
        "id": "4IdCuqs7AWeD",
        "colab_type": "code",
        "colab": {
          "base_uri": "https://localhost:8080/",
          "height": 156
        },
        "outputId": "ad2e0c13-5c6e-44da-c87c-8f0a8a01a91b"
      },
      "source": [
        "from collections import OrderedDict\n",
        "model = nn.Sequential(OrderedDict([\n",
        "                      ('fc1', nn.Linear(input_size, hidden_sizes[0])),\n",
        "                      ('relu1', nn.ReLU()),\n",
        "                      ('fc2', nn.Linear(hidden_sizes[0], hidden_sizes[1])),\n",
        "                      ('relu2', nn.ReLU()),\n",
        "                      ('output', nn.Linear(hidden_sizes[1], output_size)),\n",
        "                      ('softmax', nn.Softmax(dim=1))]))\n",
        "model"
      ],
      "execution_count": 130,
      "outputs": [
        {
          "output_type": "execute_result",
          "data": {
            "text/plain": [
              "Sequential(\n",
              "  (fc1): Linear(in_features=784, out_features=128, bias=True)\n",
              "  (relu1): ReLU()\n",
              "  (fc2): Linear(in_features=128, out_features=64, bias=True)\n",
              "  (relu2): ReLU()\n",
              "  (output): Linear(in_features=64, out_features=10, bias=True)\n",
              "  (softmax): Softmax()\n",
              ")"
            ]
          },
          "metadata": {
            "tags": []
          },
          "execution_count": 130
        }
      ]
    },
    {
      "cell_type": "markdown",
      "metadata": {
        "id": "XBJ0h8GvAWeF",
        "colab_type": "text"
      },
      "source": [
        "Now you can access layers either by integer or the name"
      ]
    },
    {
      "cell_type": "code",
      "metadata": {
        "id": "gZy_of5UAWeF",
        "colab_type": "code",
        "colab": {
          "base_uri": "https://localhost:8080/",
          "height": 52
        },
        "outputId": "38e603e6-6d68-4f66-bba0-a479571dd8ef"
      },
      "source": [
        "print(model[0])\n",
        "print(model.fc1)"
      ],
      "execution_count": 131,
      "outputs": [
        {
          "output_type": "stream",
          "text": [
            "Linear(in_features=784, out_features=128, bias=True)\n",
            "Linear(in_features=784, out_features=128, bias=True)\n"
          ],
          "name": "stdout"
        }
      ]
    },
    {
      "cell_type": "markdown",
      "metadata": {
        "id": "P1fwKL8UAWeH",
        "colab_type": "text"
      },
      "source": [
        "In the next notebook, we'll see how we can train a neural network to accuractly predict the numbers appearing in the MNIST images."
      ]
    }
  ]
}