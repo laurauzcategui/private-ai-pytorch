{
  "nbformat": 4,
  "nbformat_minor": 0,
  "metadata": {
    "colab": {
      "name": "Part 5 - Inference and Validation (Exercises).ipynb",
      "version": "0.3.2",
      "provenance": [],
      "collapsed_sections": [],
      "toc_visible": true
    },
    "language_info": {
      "codemirror_mode": {
        "name": "ipython",
        "version": 3
      },
      "file_extension": ".py",
      "mimetype": "text/x-python",
      "name": "python",
      "nbconvert_exporter": "python",
      "pygments_lexer": "ipython3",
      "version": "3.6.6"
    },
    "kernelspec": {
      "name": "python3",
      "display_name": "Python 3"
    },
    "accelerator": "GPU"
  },
  "cells": [
    {
      "cell_type": "markdown",
      "metadata": {
        "id": "uDwERtle2X1i",
        "colab_type": "text"
      },
      "source": [
        "# Inference and Validation\n",
        "\n",
        "Now that you have a trained network, you can use it for making predictions. This is typically called **inference**, a term borrowed from statistics. However, neural networks have a tendency to perform *too well* on the training data and aren't able to generalize to data that hasn't been seen before. This is called **overfitting** and it impairs inference performance. To test for overfitting while training, we measure the performance on data not in the training set called the **validation** set. We avoid overfitting through regularization such as dropout while monitoring the validation performance during training. In this notebook, I'll show you how to do this in PyTorch. \n",
        "\n",
        "As usual, let's start by loading the dataset through torchvision. You'll learn more about torchvision and loading data in a later part. This time we'll be taking advantage of the test set which you can get by setting `train=False` here:\n",
        "\n",
        "```python\n",
        "testset = datasets.FashionMNIST('~/.pytorch/F_MNIST_data/', download=True, train=False, transform=transform)\n",
        "```\n",
        "\n",
        "The test set contains images just like the training set. Typically you'll see 10-20% of the original dataset held out for testing and validation with the rest being used for training."
      ]
    },
    {
      "cell_type": "code",
      "metadata": {
        "id": "1vbauwcs2X1k",
        "colab_type": "code",
        "colab": {
          "base_uri": "https://localhost:8080/",
          "height": 280
        },
        "outputId": "99eac94a-442c-4bce-da74-9146cd36dcbf"
      },
      "source": [
        "import torch\n",
        "from torchvision import datasets, transforms\n",
        "\n",
        "# Define a transform to normalize the data\n",
        "transform = transforms.Compose([transforms.ToTensor(),\n",
        "                                transforms.Normalize((0.5,), (0.5,))])\n",
        "# Download and load the training data\n",
        "trainset = datasets.FashionMNIST('~/.pytorch/F_MNIST_data/', download=True, train=True, transform=transform)\n",
        "trainloader = torch.utils.data.DataLoader(trainset, batch_size=64, shuffle=True)\n",
        "\n",
        "# Download and load the test data\n",
        "testset = datasets.FashionMNIST('~/.pytorch/F_MNIST_data/', download=True, train=False, transform=transform)\n",
        "testloader = torch.utils.data.DataLoader(testset, batch_size=64, shuffle=True)"
      ],
      "execution_count": 1,
      "outputs": [
        {
          "output_type": "stream",
          "text": [
            "\r0it [00:00, ?it/s]"
          ],
          "name": "stderr"
        },
        {
          "output_type": "stream",
          "text": [
            "Downloading http://fashion-mnist.s3-website.eu-central-1.amazonaws.com/train-images-idx3-ubyte.gz to /root/.pytorch/F_MNIST_data/FashionMNIST/raw/train-images-idx3-ubyte.gz\n"
          ],
          "name": "stdout"
        },
        {
          "output_type": "stream",
          "text": [
            "26427392it [00:00, 42833907.88it/s]                              \n"
          ],
          "name": "stderr"
        },
        {
          "output_type": "stream",
          "text": [
            "Extracting /root/.pytorch/F_MNIST_data/FashionMNIST/raw/train-images-idx3-ubyte.gz\n"
          ],
          "name": "stdout"
        },
        {
          "output_type": "stream",
          "text": [
            "32768it [00:00, 484033.72it/s]\n",
            "  0%|          | 16384/4422102 [00:00<00:28, 156573.84it/s]"
          ],
          "name": "stderr"
        },
        {
          "output_type": "stream",
          "text": [
            "Downloading http://fashion-mnist.s3-website.eu-central-1.amazonaws.com/train-labels-idx1-ubyte.gz to /root/.pytorch/F_MNIST_data/FashionMNIST/raw/train-labels-idx1-ubyte.gz\n",
            "Extracting /root/.pytorch/F_MNIST_data/FashionMNIST/raw/train-labels-idx1-ubyte.gz\n",
            "Downloading http://fashion-mnist.s3-website.eu-central-1.amazonaws.com/t10k-images-idx3-ubyte.gz to /root/.pytorch/F_MNIST_data/FashionMNIST/raw/t10k-images-idx3-ubyte.gz\n"
          ],
          "name": "stdout"
        },
        {
          "output_type": "stream",
          "text": [
            "4423680it [00:00, 20084279.10it/s]                           \n",
            "8192it [00:00, 106590.08it/s]\n"
          ],
          "name": "stderr"
        },
        {
          "output_type": "stream",
          "text": [
            "Extracting /root/.pytorch/F_MNIST_data/FashionMNIST/raw/t10k-images-idx3-ubyte.gz\n",
            "Downloading http://fashion-mnist.s3-website.eu-central-1.amazonaws.com/t10k-labels-idx1-ubyte.gz to /root/.pytorch/F_MNIST_data/FashionMNIST/raw/t10k-labels-idx1-ubyte.gz\n",
            "Extracting /root/.pytorch/F_MNIST_data/FashionMNIST/raw/t10k-labels-idx1-ubyte.gz\n",
            "Processing...\n",
            "Done!\n"
          ],
          "name": "stdout"
        }
      ]
    },
    {
      "cell_type": "markdown",
      "metadata": {
        "id": "xwoWVhWW2X1n",
        "colab_type": "text"
      },
      "source": [
        "Here I'll create a model like normal, using the same one from my solution for part 4."
      ]
    },
    {
      "cell_type": "code",
      "metadata": {
        "id": "KQN-KhR_2X1o",
        "colab_type": "code",
        "colab": {}
      },
      "source": [
        "from torch import nn, optim\n",
        "import torch.nn.functional as F\n",
        "\n",
        "class Classifier(nn.Module):\n",
        "    def __init__(self):\n",
        "        super().__init__()\n",
        "        self.fc1 = nn.Linear(784, 256)\n",
        "        self.fc2 = nn.Linear(256, 128)\n",
        "        self.fc3 = nn.Linear(128, 64)\n",
        "        self.fc4 = nn.Linear(64, 10)\n",
        "        \n",
        "    def forward(self, x):\n",
        "        # make sure input tensor is flattened\n",
        "        x = x.view(x.shape[0], -1)\n",
        "        \n",
        "        x = F.relu(self.fc1(x))\n",
        "        x = F.relu(self.fc2(x))\n",
        "        x = F.relu(self.fc3(x))\n",
        "        x = F.log_softmax(self.fc4(x), dim=1)\n",
        "        \n",
        "        return x"
      ],
      "execution_count": 0,
      "outputs": []
    },
    {
      "cell_type": "markdown",
      "metadata": {
        "id": "mIzbckgK2X1q",
        "colab_type": "text"
      },
      "source": [
        "The goal of validation is to measure the model's performance on data that isn't part of the training set. Performance here is up to the developer to define though. Typically this is just accuracy, the percentage of classes the network predicted correctly. Other options are [precision and recall](https://en.wikipedia.org/wiki/Precision_and_recall#Definition_(classification_context)) and top-5 error rate. We'll focus on accuracy here. First I'll do a forward pass with one batch from the test set."
      ]
    },
    {
      "cell_type": "code",
      "metadata": {
        "id": "6B7hb_ym2X1q",
        "colab_type": "code",
        "outputId": "574a9fe1-edf2-40e8-d037-42a0617777e1",
        "colab": {
          "base_uri": "https://localhost:8080/",
          "height": 35
        }
      },
      "source": [
        "model = Classifier()\n",
        "\n",
        "images, labels = next(iter(testloader))\n",
        "# Get the class probabilities\n",
        "ps = torch.exp(model(images))\n",
        "# Make sure the shape is appropriate, we should get 10 class probabilities for 64 examples\n",
        "print(ps.shape)"
      ],
      "execution_count": 3,
      "outputs": [
        {
          "output_type": "stream",
          "text": [
            "torch.Size([64, 10])\n"
          ],
          "name": "stdout"
        }
      ]
    },
    {
      "cell_type": "markdown",
      "metadata": {
        "id": "Wew8zmA22X1v",
        "colab_type": "text"
      },
      "source": [
        "With the probabilities, we can get the most likely class using the `ps.topk` method. This returns the $k$ highest values. Since we just want the most likely class, we can use `ps.topk(1)`. This returns a tuple of the top-$k$ values and the top-$k$ indices. If the highest value is the fifth element, we'll get back 4 as the index."
      ]
    },
    {
      "cell_type": "code",
      "metadata": {
        "id": "G0ac7Ynb2X1v",
        "colab_type": "code",
        "outputId": "1ec40b3a-c22b-4d1d-ea62-3722000dcaeb",
        "colab": {
          "base_uri": "https://localhost:8080/",
          "height": 191
        }
      },
      "source": [
        "top_p, top_class = ps.topk(1, dim=1)\n",
        "# Look at the most likely classes for the first 10 examples\n",
        "print(top_class[:10,:])"
      ],
      "execution_count": 4,
      "outputs": [
        {
          "output_type": "stream",
          "text": [
            "tensor([[4],\n",
            "        [4],\n",
            "        [4],\n",
            "        [4],\n",
            "        [5],\n",
            "        [4],\n",
            "        [4],\n",
            "        [4],\n",
            "        [4],\n",
            "        [4]])\n"
          ],
          "name": "stdout"
        }
      ]
    },
    {
      "cell_type": "markdown",
      "metadata": {
        "id": "9UPFzPyH2X1y",
        "colab_type": "text"
      },
      "source": [
        "Now we can check if the predicted classes match the labels. This is simple to do by equating `top_class` and `labels`, but we have to be careful of the shapes. Here `top_class` is a 2D tensor with shape `(64, 1)` while `labels` is 1D with shape `(64)`. To get the equality to work out the way we want, `top_class` and `labels` must have the same shape.\n",
        "\n",
        "If we do\n",
        "\n",
        "```python\n",
        "equals = top_class == labels\n",
        "```\n",
        "\n",
        "`equals` will have shape `(64, 64)`, try it yourself. What it's doing is comparing the one element in each row of `top_class` with each element in `labels` which returns 64 True/False boolean values for each row."
      ]
    },
    {
      "cell_type": "code",
      "metadata": {
        "id": "nIrLDSyV2X1z",
        "colab_type": "code",
        "colab": {}
      },
      "source": [
        "equals = top_class == labels.view(*top_class.shape)"
      ],
      "execution_count": 0,
      "outputs": []
    },
    {
      "cell_type": "markdown",
      "metadata": {
        "id": "npom7b-A2X11",
        "colab_type": "text"
      },
      "source": [
        "Now we need to calculate the percentage of correct predictions. `equals` has binary values, either 0 or 1. This means that if we just sum up all the values and divide by the number of values, we get the percentage of correct predictions. This is the same operation as taking the mean, so we can get the accuracy with a call to `torch.mean`. If only it was that simple. If you try `torch.mean(equals)`, you'll get an error\n",
        "\n",
        "```\n",
        "RuntimeError: mean is not implemented for type torch.ByteTensor\n",
        "```\n",
        "\n",
        "This happens because `equals` has type `torch.ByteTensor` but `torch.mean` isn't implemented for tensors with that type. So we'll need to convert `equals` to a float tensor. Note that when we take `torch.mean` it returns a scalar tensor, to get the actual value as a float we'll need to do `accuracy.item()`."
      ]
    },
    {
      "cell_type": "code",
      "metadata": {
        "id": "jCOGTfxG2X12",
        "colab_type": "code",
        "outputId": "329618b6-9dbb-4593-b2f7-d8546f878e81",
        "colab": {
          "base_uri": "https://localhost:8080/",
          "height": 35
        }
      },
      "source": [
        "accuracy = torch.mean(equals.type(torch.FloatTensor))\n",
        "print(f'Accuracy: {accuracy.item()*100}%')"
      ],
      "execution_count": 6,
      "outputs": [
        {
          "output_type": "stream",
          "text": [
            "Accuracy: 9.375%\n"
          ],
          "name": "stdout"
        }
      ]
    },
    {
      "cell_type": "markdown",
      "metadata": {
        "id": "Akzdw4K62X15",
        "colab_type": "text"
      },
      "source": [
        "The network is untrained so it's making random guesses and we should see an accuracy around 10%. Now let's train our network and include our validation pass so we can measure how well the network is performing on the test set. Since we're not updating our parameters in the validation pass, we can speed up our code by turning off gradients using `torch.no_grad()`:\n",
        "\n",
        "```python\n",
        "# turn off gradients\n",
        "with torch.no_grad():\n",
        "    # validation pass here\n",
        "    for images, labels in testloader:\n",
        "        ...\n",
        "```\n",
        "\n",
        ">**Exercise:** Implement the validation loop below and print out the total accuracy after the loop. You can largely copy and paste the code from above, but I suggest typing it in because writing it out yourself is essential for building the skill. In general you'll always learn more by typing it rather than copy-pasting. You should be able to get an accuracy above 80%."
      ]
    },
    {
      "cell_type": "code",
      "metadata": {
        "id": "fdALFlDo2X16",
        "colab_type": "code",
        "outputId": "1a2059a3-b022-4835-a74a-ad63597631c2",
        "colab": {
          "base_uri": "https://localhost:8080/",
          "height": 104
        }
      },
      "source": [
        "model = Classifier()\n",
        "criterion = nn.NLLLoss()\n",
        "optimizer = optim.Adam(model.parameters(), lr=0.003)\n",
        "\n",
        "epochs = 5\n",
        "steps = 0\n",
        "\n",
        "for e in range(epochs):\n",
        "    running_loss = 0\n",
        "    for images, labels in trainloader:\n",
        "        \n",
        "        optimizer.zero_grad()\n",
        "        \n",
        "        log_ps = model.forward(images)\n",
        "        loss = criterion(log_ps, labels)\n",
        "        loss.backward()\n",
        "        optimizer.step()\n",
        "        \n",
        "        running_loss += loss.item()\n",
        "        \n",
        "    else:\n",
        "        # initialize on every step\n",
        "        test_loss = 0 \n",
        "        accuracy = 0\n",
        "        ## TODO: Implement the validation pass and print out the validation accuracy\n",
        "        with torch.no_grad():\n",
        "            for images, labels in testloader:\n",
        "              \n",
        "              test_ps = model.forward(images)\n",
        "              test_loss += criterion(test_ps, labels)\n",
        "              \n",
        "              # get probabilities \n",
        "              ps = torch.exp(model(images))\n",
        "              # get top class predicted \n",
        "              top_p, top_class = ps.topk(1, dim=1)\n",
        "              # get which class were predicted correctly \n",
        "              correct_preds = top_class == labels.view(*top_class.shape)\n",
        "              # calculate the accuracy \n",
        "              accuracy += torch.mean(correct_preds.type(torch.torch.FloatTensor))\n",
        "              \n",
        "        # set model back to training\n",
        "        model.train()\n",
        "        \n",
        "        print(f'Accuracy: {(accuracy.item()/len(testloader))*100}%')"
      ],
      "execution_count": 7,
      "outputs": [
        {
          "output_type": "stream",
          "text": [
            "Accuracy: 83.56886942675159%\n",
            "Accuracy: 84.90246815286623%\n",
            "Accuracy: 85.20103503184714%\n",
            "Accuracy: 86.42515923566879%\n",
            "Accuracy: 86.10668789808918%\n"
          ],
          "name": "stdout"
        }
      ]
    },
    {
      "cell_type": "markdown",
      "metadata": {
        "id": "zy5ZkRM_2X18",
        "colab_type": "text"
      },
      "source": [
        "## Overfitting\n",
        "\n",
        "If we look at the training and validation losses as we train the network, we can see a phenomenon known as overfitting.\n",
        "\n",
        "<img src='http://drive.google.com/uc?export=view&id=13MMyn_qIahEnDdVcx0YQdhSyl-fGIoaw' width=500px>\n",
        "\n",
        "The network learns the training set better and better, resulting in lower training losses. However, it starts having problems generalizing to data outside the training set leading to the validation loss increasing. The ultimate goal of any deep learning model is to make predictions on new data, so we should strive to get the lowest validation loss possible. One option is to use the version of the model with the lowest validation loss, here the one around 8-10 training epochs. This strategy is called *early-stopping*. In practice, you'd save the model frequently as you're training then later choose the model with the lowest validation loss.\n",
        "\n",
        "The most common method to reduce overfitting (outside of early-stopping) is *dropout*, where we randomly drop input units. This forces the network to share information between weights, increasing it's ability to generalize to new data. Adding dropout in PyTorch is straightforward using the [`nn.Dropout`](https://pytorch.org/docs/stable/nn.html#torch.nn.Dropout) module.\n",
        "\n",
        "```python\n",
        "class Classifier(nn.Module):\n",
        "    def __init__(self):\n",
        "        super().__init__()\n",
        "        self.fc1 = nn.Linear(784, 256)\n",
        "        self.fc2 = nn.Linear(256, 128)\n",
        "        self.fc3 = nn.Linear(128, 64)\n",
        "        self.fc4 = nn.Linear(64, 10)\n",
        "        \n",
        "        # Dropout module with 0.2 drop probability\n",
        "        self.dropout = nn.Dropout(p=0.2)\n",
        "        \n",
        "    def forward(self, x):\n",
        "        # make sure input tensor is flattened\n",
        "        x = x.view(x.shape[0], -1)\n",
        "        \n",
        "        # Now with dropout\n",
        "        x = self.dropout(F.relu(self.fc1(x)))\n",
        "        x = self.dropout(F.relu(self.fc2(x)))\n",
        "        x = self.dropout(F.relu(self.fc3(x)))\n",
        "        \n",
        "        # output so no dropout here\n",
        "        x = F.log_softmax(self.fc4(x), dim=1)\n",
        "        \n",
        "        return x\n",
        "```\n",
        "\n",
        "During training we want to use dropout to prevent overfitting, but during inference we want to use the entire network. So, we need to turn off dropout during validation, testing, and whenever we're using the network to make predictions. To do this, you use `model.eval()`. This sets the model to evaluation mode where the dropout probability is 0. You can turn dropout back on by setting the model to train mode with `model.train()`. In general, the pattern for the validation loop will look like this, where you turn off gradients, set the model to evaluation mode, calculate the validation loss and metric, then set the model back to train mode.\n",
        "\n",
        "```python\n",
        "# turn off gradients\n",
        "with torch.no_grad():\n",
        "    \n",
        "    # set model to evaluation mode\n",
        "    model.eval()\n",
        "    \n",
        "    # validation pass here\n",
        "    for images, labels in testloader:\n",
        "        ...\n",
        "\n",
        "# set model back to train mode\n",
        "model.train()\n",
        "```"
      ]
    },
    {
      "cell_type": "markdown",
      "metadata": {
        "id": "h7btmfjU2X18",
        "colab_type": "text"
      },
      "source": [
        "> **Exercise:** Add dropout to your model and train it on Fashion-MNIST again. See if you can get a lower validation loss or higher accuracy."
      ]
    },
    {
      "cell_type": "code",
      "metadata": {
        "id": "iTYuHVAu2X19",
        "colab_type": "code",
        "colab": {}
      },
      "source": [
        "## TODO: Define your model with dropout added\n",
        "class Mnist_Model(nn.Module): \n",
        "  def __init__(self):\n",
        "    super().__init__()\n",
        "    # First fully connected layer \n",
        "    self.fc_1 = nn.Linear(784,256)\n",
        "    # Second layer - hidden \n",
        "    self.fc_2 = nn.Linear(256,128)\n",
        "    # Third Layer \n",
        "    self.fc_3 = nn.Linear(128,64)\n",
        "    # Output Layer \n",
        "    self.out = nn.Linear(64,10) \n",
        "    \n",
        "    self.dropout = nn.Dropout(p=0.2)\n",
        "    \n",
        "  def forward(self, x):\n",
        "    # flatten the tensor \n",
        "    x = x.view(x.shape[0], -1)\n",
        "    # Pass forward with activation functions \n",
        "    x = self.dropout(F.relu(self.fc_1(x)))\n",
        "    # Second layer with activation function \n",
        "    x = self.dropout(F.relu(self.fc_2(x)))\n",
        "    # Second layer with activation function \n",
        "    x = self.dropout(F.relu(self.fc_3(x)))\n",
        "    \n",
        "    # Last layer and output with a softmax \n",
        "    x = F.log_softmax(self.out(x), dim=1)\n",
        "    return x \n",
        "  \n",
        "model = Mnist_Model()"
      ],
      "execution_count": 0,
      "outputs": []
    },
    {
      "cell_type": "code",
      "metadata": {
        "id": "xudkB1992X1_",
        "colab_type": "code",
        "outputId": "b307c6f1-99d2-4e7a-81f9-2d9bb4ad7064",
        "colab": {
          "base_uri": "https://localhost:8080/",
          "height": 1057
        }
      },
      "source": [
        "## TODO: Train your model with dropout, and monitor the training progress with the validation loss and accuracy\n",
        "criterion = nn.NLLLoss()\n",
        "optimizer = optim.Adam(model.parameters(), lr=0.003)\n",
        "\n",
        "epochs = 30\n",
        "steps = 0\n",
        "\n",
        "train_losses, test_losses = [], []\n",
        "for e in range(epochs):\n",
        "    running_loss = 0\n",
        "    for images, labels in trainloader:\n",
        "        \n",
        "        optimizer.zero_grad()\n",
        "        \n",
        "        log_ps = model.forward(images)\n",
        "        loss = criterion(log_ps, labels)\n",
        "        loss.backward()\n",
        "        optimizer.step()\n",
        "        \n",
        "        running_loss += loss.item()\n",
        "        \n",
        "    else:\n",
        "        # initialize on every step\n",
        "        test_loss = 0 \n",
        "        accuracy = 0\n",
        "\n",
        "        ## TODO: Implement the validation pass and print out the validation accuracy\n",
        "        with torch.no_grad():\n",
        "            # set the model to evaluation\n",
        "            model.eval()\n",
        "            for images, labels in testloader:\n",
        "              \n",
        "              log_ps = model(images)\n",
        "              test_loss += criterion(log_ps, labels)\n",
        "              \n",
        "              # get probabilities \n",
        "              ps = torch.exp(log_ps)\n",
        "              # get top class predicted \n",
        "              top_p, top_class = ps.topk(1, dim=1)\n",
        "              # get which class were predicted correctly \n",
        "              correct_preds = top_class == labels.view(*top_class.shape)\n",
        "              # calculate the accuracy \n",
        "              accuracy += torch.mean(correct_preds.type(torch.torch.FloatTensor))\n",
        "              \n",
        "        # set model back to training\n",
        "        model.train()\n",
        "        \n",
        "        # add values for the train losses and validation loss \n",
        "        train_losses.append(running_loss/len(trainloader))\n",
        "        test_losses.append(test_loss/len(testloader))\n",
        "        \n",
        "        print(f'Accuracy: {(accuracy.item()/len(testloader))*100}%')\n",
        "        print(\"Epoch: {}/{}.. \".format(e+1, epochs),\n",
        "              \"Training Loss: {:.3f}.. \".format(train_losses[-1]),\n",
        "              \"Test Loss: {:.3f}.. \".format(test_losses[-1]))"
      ],
      "execution_count": 22,
      "outputs": [
        {
          "output_type": "stream",
          "text": [
            "Accuracy: 82.32484076433121%\n",
            "Epoch: 1/30..  Training Loss: 0.605..  Test Loss: 0.483.. \n",
            "Accuracy: 84.02667197452229%\n",
            "Epoch: 2/30..  Training Loss: 0.484..  Test Loss: 0.430.. \n",
            "Accuracy: 85.09156050955414%\n",
            "Epoch: 3/30..  Training Loss: 0.453..  Test Loss: 0.421.. \n",
            "Accuracy: 85.3702229299363%\n",
            "Epoch: 4/30..  Training Loss: 0.435..  Test Loss: 0.409.. \n",
            "Accuracy: 85.65883757961782%\n",
            "Epoch: 5/30..  Training Loss: 0.426..  Test Loss: 0.398.. \n",
            "Accuracy: 85.25079617834395%\n",
            "Epoch: 6/30..  Training Loss: 0.415..  Test Loss: 0.416.. \n",
            "Accuracy: 84.85270700636943%\n",
            "Epoch: 7/30..  Training Loss: 0.411..  Test Loss: 0.407.. \n",
            "Accuracy: 85.89769108280255%\n",
            "Epoch: 8/30..  Training Loss: 0.401..  Test Loss: 0.408.. \n",
            "Accuracy: 85.56926751592357%\n",
            "Epoch: 9/30..  Training Loss: 0.398..  Test Loss: 0.407.. \n",
            "Accuracy: 86.36544585987261%\n",
            "Epoch: 10/30..  Training Loss: 0.387..  Test Loss: 0.388.. \n",
            "Accuracy: 86.48487261146497%\n",
            "Epoch: 11/30..  Training Loss: 0.389..  Test Loss: 0.395.. \n",
            "Accuracy: 87.07205414012739%\n",
            "Epoch: 12/30..  Training Loss: 0.378..  Test Loss: 0.373.. \n",
            "Accuracy: 86.5545382165605%\n",
            "Epoch: 13/30..  Training Loss: 0.376..  Test Loss: 0.380.. \n",
            "Accuracy: 86.87300955414013%\n",
            "Epoch: 14/30..  Training Loss: 0.379..  Test Loss: 0.381.. \n",
            "Accuracy: 86.3953025477707%\n",
            "Epoch: 15/30..  Training Loss: 0.368..  Test Loss: 0.406.. \n",
            "Accuracy: 86.18630573248409%\n",
            "Epoch: 16/30..  Training Loss: 0.375..  Test Loss: 0.390.. \n",
            "Accuracy: 87.2312898089172%\n",
            "Epoch: 17/30..  Training Loss: 0.373..  Test Loss: 0.371.. \n",
            "Accuracy: 87.2312898089172%\n",
            "Epoch: 18/30..  Training Loss: 0.365..  Test Loss: 0.372.. \n",
            "Accuracy: 86.9625796178344%\n",
            "Epoch: 19/30..  Training Loss: 0.363..  Test Loss: 0.378.. \n",
            "Accuracy: 86.9327229299363%\n",
            "Epoch: 20/30..  Training Loss: 0.357..  Test Loss: 0.369.. \n",
            "Accuracy: 87.19148089171973%\n",
            "Epoch: 21/30..  Training Loss: 0.360..  Test Loss: 0.385.. \n",
            "Accuracy: 87.17157643312102%\n",
            "Epoch: 22/30..  Training Loss: 0.361..  Test Loss: 0.386.. \n",
            "Accuracy: 86.7734872611465%\n",
            "Epoch: 23/30..  Training Loss: 0.358..  Test Loss: 0.389.. \n",
            "Accuracy: 87.37062101910828%\n",
            "Epoch: 24/30..  Training Loss: 0.361..  Test Loss: 0.364.. \n",
            "Accuracy: 86.81329617834395%\n",
            "Epoch: 25/30..  Training Loss: 0.349..  Test Loss: 0.380.. \n",
            "Accuracy: 87.1218152866242%\n",
            "Epoch: 26/30..  Training Loss: 0.354..  Test Loss: 0.367.. \n",
            "Accuracy: 86.3953025477707%\n",
            "Epoch: 27/30..  Training Loss: 0.348..  Test Loss: 0.393.. \n",
            "Accuracy: 87.14171974522293%\n",
            "Epoch: 28/30..  Training Loss: 0.344..  Test Loss: 0.383.. \n",
            "Accuracy: 87.42038216560509%\n",
            "Epoch: 29/30..  Training Loss: 0.341..  Test Loss: 0.381.. \n",
            "Accuracy: 87.24124203821655%\n",
            "Epoch: 30/30..  Training Loss: 0.342..  Test Loss: 0.377.. \n"
          ],
          "name": "stdout"
        }
      ]
    },
    {
      "cell_type": "code",
      "metadata": {
        "id": "evLdUNoa8Qmz",
        "colab_type": "code",
        "outputId": "4c59b4d0-d9ea-4844-b19f-cc8d6bb2b49a",
        "colab": {
          "base_uri": "https://localhost:8080/",
          "height": 287
        }
      },
      "source": [
        "%matplotlib inline \n",
        "import matplotlib.pyplot as plt\n",
        "plt.plot(train_losses, label='training losses')\n",
        "plt.plot(test_losses, label='test loss')\n",
        "plt.legend(frameon=False)"
      ],
      "execution_count": 23,
      "outputs": [
        {
          "output_type": "execute_result",
          "data": {
            "text/plain": [
              "<matplotlib.legend.Legend at 0x7ff389612a20>"
            ]
          },
          "metadata": {
            "tags": []
          },
          "execution_count": 23
        },
        {
          "output_type": "display_data",
          "data": {
            "image/png": "[encoded data removed]",
            "text/plain": [
              "<Figure size 432x288 with 1 Axes>"
            ]
          },
          "metadata": {
            "tags": []
          }
        }
      ]
    },
    {
      "cell_type": "markdown",
      "metadata": {
        "id": "xq-SWvkz2X2B",
        "colab_type": "text"
      },
      "source": [
        "## Inference\n",
        "\n",
        "Now that the model is trained, we can use it for inference. We've done this before, but now we need to remember to set the model in inference mode with `model.eval()`. You'll also want to turn off autograd with the `torch.no_grad()` context."
      ]
    },
    {
      "cell_type": "code",
      "metadata": {
        "id": "qYMNWetq2X2C",
        "colab_type": "code",
        "outputId": "665227c7-b06a-4b6b-c008-9ca5ddfc7d09",
        "colab": {
          "base_uri": "https://localhost:8080/",
          "height": 225
        }
      },
      "source": [
        "# Import helper module (should be in the repo)\n",
        "import helper\n",
        "\n",
        "# Test out your network!\n",
        "\n",
        "model.eval()\n",
        "\n",
        "dataiter = iter(testloader)\n",
        "images, labels = dataiter.next()\n",
        "img = images[0]\n",
        "# Convert 2D image to 1D vector\n",
        "img = img.view(1, 784)\n",
        "\n",
        "# Calculate the class probabilities (softmax) for img\n",
        "with torch.no_grad():\n",
        "    output = model.forward(img)\n",
        "\n",
        "ps = torch.exp(output)\n",
        "\n",
        "# Plot the image and probabilities\n",
        "helper.view_classify(img.view(1, 28, 28), ps, version='Fashion')"
      ],
      "execution_count": 25,
      "outputs": [
        {
          "output_type": "display_data",
          "data": {
            "image/png": "[encoded data removed]",
            "text/plain": [
              "<Figure size 432x648 with 2 Axes>"
            ]
          },
          "metadata": {
            "tags": []
          }
        }
      ]
    },
    {
      "cell_type": "markdown",
      "metadata": {
        "id": "3yQI7_ph2X2E",
        "colab_type": "text"
      },
      "source": [
        "## Next Up!\n",
        "\n",
        "In the next part, I'll show you how to save your trained models. In general, you won't want to train a model everytime you need it. Instead, you'll train once, save it, then load the model when you want to train more or use if for inference."
      ]
    }
  ]
}